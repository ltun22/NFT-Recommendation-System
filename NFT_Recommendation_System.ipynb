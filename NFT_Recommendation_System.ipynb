{
  "nbformat": 4,
  "nbformat_minor": 0,
  "metadata": {
    "colab": {
      "provenance": []
    },
    "kernelspec": {
      "name": "python3",
      "display_name": "Python 3"
    },
    "language_info": {
      "name": "python"
    }
  },
  "cells": [
    {
      "cell_type": "code",
      "execution_count": null,
      "metadata": {
        "id": "yEy506lJhzZV",
        "colab": {
          "base_uri": "https://localhost:8080/"
        },
        "outputId": "baa91024-7c40-4dc1-c2fb-cfcf5a8f401b"
      },
      "outputs": [
        {
          "output_type": "stream",
          "name": "stderr",
          "text": [
            "[nltk_data] Downloading package stopwords to /root/nltk_data...\n",
            "[nltk_data]   Package stopwords is already up-to-date!\n"
          ]
        },
        {
          "output_type": "stream",
          "name": "stdout",
          "text": [
            "Looking in indexes: https://pypi.org/simple, https://us-python.pkg.dev/colab-wheels/public/simple/\n",
            "Requirement already satisfied: contractions in /usr/local/lib/python3.7/dist-packages (0.1.72)\n",
            "Requirement already satisfied: textsearch>=0.0.21 in /usr/local/lib/python3.7/dist-packages (from contractions) (0.0.24)\n",
            "Requirement already satisfied: anyascii in /usr/local/lib/python3.7/dist-packages (from textsearch>=0.0.21->contractions) (0.3.1)\n",
            "Requirement already satisfied: pyahocorasick in /usr/local/lib/python3.7/dist-packages (from textsearch>=0.0.21->contractions) (1.4.4)\n"
          ]
        }
      ],
      "source": [
        "import pandas as pd\n",
        "import nltk\n",
        "from nltk.corpus import stopwords\n",
        "nltk.download('stopwords')\n",
        "!pip install contractions\n",
        "import contractions"
      ]
    },
    {
      "cell_type": "code",
      "source": [
        "df = pd.read_csv(\"/nft_sales.csv\")"
      ],
      "metadata": {
        "id": "CTqITnNxiRG3",
        "colab": {
          "base_uri": "https://localhost:8080/"
        },
        "outputId": "e47ce1f3-e68b-4d03-96f0-7d1012f915b4"
      },
      "execution_count": null,
      "outputs": [
        {
          "output_type": "stream",
          "name": "stderr",
          "text": [
            "/usr/local/lib/python3.7/dist-packages/IPython/core/interactiveshell.py:3326: DtypeWarning: Columns (14) have mixed types.Specify dtype option on import or set low_memory=False.\n",
            "  exec(code_obj, self.user_global_ns, self.user_ns)\n"
          ]
        }
      ]
    },
    {
      "cell_type": "code",
      "source": [
        "df.head()"
      ],
      "metadata": {
        "colab": {
          "base_uri": "https://localhost:8080/",
          "height": 461
        },
        "id": "HIYdFjFliW0m",
        "outputId": "4f6ceb69-6acf-42ff-e75a-d688339253e7"
      },
      "execution_count": null,
      "outputs": [
        {
          "output_type": "execute_result",
          "data": {
            "text/plain": [
              "   Unnamed: 0  collection_slug  collection_name  \\\n",
              "0           0          rarible          Rarible   \n",
              "1           1  rarebit-bunnies  Rarebit Bunnies   \n",
              "2           2          rarible          Rarible   \n",
              "3           3          rarible          Rarible   \n",
              "4           4   chainguardians   ChainGuardians   \n",
              "\n",
              "                                  collection_url  asset_id  \\\n",
              "0          https://opensea.io/collection/rarible  18214580   \n",
              "1  https://opensea.io/collection/rarebit-bunnies  18276844   \n",
              "2          https://opensea.io/collection/rarible  16911700   \n",
              "3          https://opensea.io/collection/rarible  16986936   \n",
              "4   https://opensea.io/collection/chainguardians  13382164   \n",
              "\n",
              "                     asset_name  \\\n",
              "0           Daft Punk Never Die   \n",
              "1  Rarebit #164 - Wax Off Bunny   \n",
              "2                    Meditation   \n",
              "3                        I´m OG   \n",
              "4               Celia B100 #105   \n",
              "\n",
              "                                   asset_description  \\\n",
              "0  Piece of art, Daft Punk, always in our hears.\\...   \n",
              "1  🐇♥️ When it comes to high kicks this Rarebit's...   \n",
              "2  Meditation by Diana.\\n\\nMinted only 20 NFT col...   \n",
              "3     This is one of the first NFTs in human history   \n",
              "4  One of the original androids created within th...   \n",
              "\n",
              "          asset_contract_date  \\\n",
              "0  2020-05-27T16:53:32.834583   \n",
              "1  2021-01-21T20:43:08.113711   \n",
              "2  2020-05-27T16:53:32.834583   \n",
              "3  2020-05-27T16:53:32.834583   \n",
              "4  2019-11-17T21:00:18.404059   \n",
              "\n",
              "                                           asset_url  \\\n",
              "0  https://opensea.io/assets/0xd07dc4262bcdbf8519...   \n",
              "1  https://opensea.io/assets/0x61bd6b10c7bf3e548f...   \n",
              "2  https://opensea.io/assets/0xd07dc4262bcdbf8519...   \n",
              "3  https://opensea.io/assets/0xd07dc4262bcdbf8519...   \n",
              "4  https://opensea.io/assets/0x4fe99deb8f0be517c3...   \n",
              "\n",
              "                                       asset_img_url  event_id  \\\n",
              "0  https://lh3.googleusercontent.com/DRaz3AD6SNrC...  80762268   \n",
              "1  https://lh3.googleusercontent.com/zI7j5Gc8jcJ_...  80762142   \n",
              "2  https://lh3.googleusercontent.com/VxNjqW9b0yKv...  80762131   \n",
              "3  https://lh3.googleusercontent.com/lwLuEUsHn2bd...  80762121   \n",
              "4  https://lh3.googleusercontent.com/ODEhFsO_E_O8...  80762099   \n",
              "\n",
              "                   event_time event_auction_type  \\\n",
              "0  2021-02-27T23:59:19.806617              dutch   \n",
              "1  2021-02-27T23:58:48.806004              dutch   \n",
              "2  2021-02-27T23:58:46.805355              dutch   \n",
              "3  2021-02-27T23:58:45.675259              dutch   \n",
              "4  2021-02-27T23:58:43.700969                NaN   \n",
              "\n",
              "                       event_contract_address event_quantity  \\\n",
              "0  0xcd4ec7b66fbc029c116ba9ffb3e59351c20b5b06              1   \n",
              "1  0xcd4ec7b66fbc029c116ba9ffb3e59351c20b5b06              1   \n",
              "2  0xcd4ec7b66fbc029c116ba9ffb3e59351c20b5b06              1   \n",
              "3  0xcd4ec7b66fbc029c116ba9ffb3e59351c20b5b06              1   \n",
              "4  0x7be8076f4ea4a4ad08075c2508e481d6c946d12b              1   \n",
              "\n",
              "  event_payment_symbol  event_total_price  \n",
              "0                  ETH           0.070000  \n",
              "1                  ETH           0.150000  \n",
              "2                  ETH           0.001000  \n",
              "3                  ETH           0.000647  \n",
              "4                  ETH           0.200000  "
            ],
            "text/html": [
              "\n",
              "  <div id=\"df-384ed64f-20cc-4c56-aee2-408af7ecde42\">\n",
              "    <div class=\"colab-df-container\">\n",
              "      <div>\n",
              "<style scoped>\n",
              "    .dataframe tbody tr th:only-of-type {\n",
              "        vertical-align: middle;\n",
              "    }\n",
              "\n",
              "    .dataframe tbody tr th {\n",
              "        vertical-align: top;\n",
              "    }\n",
              "\n",
              "    .dataframe thead th {\n",
              "        text-align: right;\n",
              "    }\n",
              "</style>\n",
              "<table border=\"1\" class=\"dataframe\">\n",
              "  <thead>\n",
              "    <tr style=\"text-align: right;\">\n",
              "      <th></th>\n",
              "      <th>Unnamed: 0</th>\n",
              "      <th>collection_slug</th>\n",
              "      <th>collection_name</th>\n",
              "      <th>collection_url</th>\n",
              "      <th>asset_id</th>\n",
              "      <th>asset_name</th>\n",
              "      <th>asset_description</th>\n",
              "      <th>asset_contract_date</th>\n",
              "      <th>asset_url</th>\n",
              "      <th>asset_img_url</th>\n",
              "      <th>event_id</th>\n",
              "      <th>event_time</th>\n",
              "      <th>event_auction_type</th>\n",
              "      <th>event_contract_address</th>\n",
              "      <th>event_quantity</th>\n",
              "      <th>event_payment_symbol</th>\n",
              "      <th>event_total_price</th>\n",
              "    </tr>\n",
              "  </thead>\n",
              "  <tbody>\n",
              "    <tr>\n",
              "      <th>0</th>\n",
              "      <td>0</td>\n",
              "      <td>rarible</td>\n",
              "      <td>Rarible</td>\n",
              "      <td>https://opensea.io/collection/rarible</td>\n",
              "      <td>18214580</td>\n",
              "      <td>Daft Punk Never Die</td>\n",
              "      <td>Piece of art, Daft Punk, always in our hears.\\...</td>\n",
              "      <td>2020-05-27T16:53:32.834583</td>\n",
              "      <td>https://opensea.io/assets/0xd07dc4262bcdbf8519...</td>\n",
              "      <td>https://lh3.googleusercontent.com/DRaz3AD6SNrC...</td>\n",
              "      <td>80762268</td>\n",
              "      <td>2021-02-27T23:59:19.806617</td>\n",
              "      <td>dutch</td>\n",
              "      <td>0xcd4ec7b66fbc029c116ba9ffb3e59351c20b5b06</td>\n",
              "      <td>1</td>\n",
              "      <td>ETH</td>\n",
              "      <td>0.070000</td>\n",
              "    </tr>\n",
              "    <tr>\n",
              "      <th>1</th>\n",
              "      <td>1</td>\n",
              "      <td>rarebit-bunnies</td>\n",
              "      <td>Rarebit Bunnies</td>\n",
              "      <td>https://opensea.io/collection/rarebit-bunnies</td>\n",
              "      <td>18276844</td>\n",
              "      <td>Rarebit #164 - Wax Off Bunny</td>\n",
              "      <td>🐇♥️ When it comes to high kicks this Rarebit's...</td>\n",
              "      <td>2021-01-21T20:43:08.113711</td>\n",
              "      <td>https://opensea.io/assets/0x61bd6b10c7bf3e548f...</td>\n",
              "      <td>https://lh3.googleusercontent.com/zI7j5Gc8jcJ_...</td>\n",
              "      <td>80762142</td>\n",
              "      <td>2021-02-27T23:58:48.806004</td>\n",
              "      <td>dutch</td>\n",
              "      <td>0xcd4ec7b66fbc029c116ba9ffb3e59351c20b5b06</td>\n",
              "      <td>1</td>\n",
              "      <td>ETH</td>\n",
              "      <td>0.150000</td>\n",
              "    </tr>\n",
              "    <tr>\n",
              "      <th>2</th>\n",
              "      <td>2</td>\n",
              "      <td>rarible</td>\n",
              "      <td>Rarible</td>\n",
              "      <td>https://opensea.io/collection/rarible</td>\n",
              "      <td>16911700</td>\n",
              "      <td>Meditation</td>\n",
              "      <td>Meditation by Diana.\\n\\nMinted only 20 NFT col...</td>\n",
              "      <td>2020-05-27T16:53:32.834583</td>\n",
              "      <td>https://opensea.io/assets/0xd07dc4262bcdbf8519...</td>\n",
              "      <td>https://lh3.googleusercontent.com/VxNjqW9b0yKv...</td>\n",
              "      <td>80762131</td>\n",
              "      <td>2021-02-27T23:58:46.805355</td>\n",
              "      <td>dutch</td>\n",
              "      <td>0xcd4ec7b66fbc029c116ba9ffb3e59351c20b5b06</td>\n",
              "      <td>1</td>\n",
              "      <td>ETH</td>\n",
              "      <td>0.001000</td>\n",
              "    </tr>\n",
              "    <tr>\n",
              "      <th>3</th>\n",
              "      <td>3</td>\n",
              "      <td>rarible</td>\n",
              "      <td>Rarible</td>\n",
              "      <td>https://opensea.io/collection/rarible</td>\n",
              "      <td>16986936</td>\n",
              "      <td>I´m OG</td>\n",
              "      <td>This is one of the first NFTs in human history</td>\n",
              "      <td>2020-05-27T16:53:32.834583</td>\n",
              "      <td>https://opensea.io/assets/0xd07dc4262bcdbf8519...</td>\n",
              "      <td>https://lh3.googleusercontent.com/lwLuEUsHn2bd...</td>\n",
              "      <td>80762121</td>\n",
              "      <td>2021-02-27T23:58:45.675259</td>\n",
              "      <td>dutch</td>\n",
              "      <td>0xcd4ec7b66fbc029c116ba9ffb3e59351c20b5b06</td>\n",
              "      <td>1</td>\n",
              "      <td>ETH</td>\n",
              "      <td>0.000647</td>\n",
              "    </tr>\n",
              "    <tr>\n",
              "      <th>4</th>\n",
              "      <td>4</td>\n",
              "      <td>chainguardians</td>\n",
              "      <td>ChainGuardians</td>\n",
              "      <td>https://opensea.io/collection/chainguardians</td>\n",
              "      <td>13382164</td>\n",
              "      <td>Celia B100 #105</td>\n",
              "      <td>One of the original androids created within th...</td>\n",
              "      <td>2019-11-17T21:00:18.404059</td>\n",
              "      <td>https://opensea.io/assets/0x4fe99deb8f0be517c3...</td>\n",
              "      <td>https://lh3.googleusercontent.com/ODEhFsO_E_O8...</td>\n",
              "      <td>80762099</td>\n",
              "      <td>2021-02-27T23:58:43.700969</td>\n",
              "      <td>NaN</td>\n",
              "      <td>0x7be8076f4ea4a4ad08075c2508e481d6c946d12b</td>\n",
              "      <td>1</td>\n",
              "      <td>ETH</td>\n",
              "      <td>0.200000</td>\n",
              "    </tr>\n",
              "  </tbody>\n",
              "</table>\n",
              "</div>\n",
              "      <button class=\"colab-df-convert\" onclick=\"convertToInteractive('df-384ed64f-20cc-4c56-aee2-408af7ecde42')\"\n",
              "              title=\"Convert this dataframe to an interactive table.\"\n",
              "              style=\"display:none;\">\n",
              "        \n",
              "  <svg xmlns=\"http://www.w3.org/2000/svg\" height=\"24px\"viewBox=\"0 0 24 24\"\n",
              "       width=\"24px\">\n",
              "    <path d=\"M0 0h24v24H0V0z\" fill=\"none\"/>\n",
              "    <path d=\"M18.56 5.44l.94 2.06.94-2.06 2.06-.94-2.06-.94-.94-2.06-.94 2.06-2.06.94zm-11 1L8.5 8.5l.94-2.06 2.06-.94-2.06-.94L8.5 2.5l-.94 2.06-2.06.94zm10 10l.94 2.06.94-2.06 2.06-.94-2.06-.94-.94-2.06-.94 2.06-2.06.94z\"/><path d=\"M17.41 7.96l-1.37-1.37c-.4-.4-.92-.59-1.43-.59-.52 0-1.04.2-1.43.59L10.3 9.45l-7.72 7.72c-.78.78-.78 2.05 0 2.83L4 21.41c.39.39.9.59 1.41.59.51 0 1.02-.2 1.41-.59l7.78-7.78 2.81-2.81c.8-.78.8-2.07 0-2.86zM5.41 20L4 18.59l7.72-7.72 1.47 1.35L5.41 20z\"/>\n",
              "  </svg>\n",
              "      </button>\n",
              "      \n",
              "  <style>\n",
              "    .colab-df-container {\n",
              "      display:flex;\n",
              "      flex-wrap:wrap;\n",
              "      gap: 12px;\n",
              "    }\n",
              "\n",
              "    .colab-df-convert {\n",
              "      background-color: #E8F0FE;\n",
              "      border: none;\n",
              "      border-radius: 50%;\n",
              "      cursor: pointer;\n",
              "      display: none;\n",
              "      fill: #1967D2;\n",
              "      height: 32px;\n",
              "      padding: 0 0 0 0;\n",
              "      width: 32px;\n",
              "    }\n",
              "\n",
              "    .colab-df-convert:hover {\n",
              "      background-color: #E2EBFA;\n",
              "      box-shadow: 0px 1px 2px rgba(60, 64, 67, 0.3), 0px 1px 3px 1px rgba(60, 64, 67, 0.15);\n",
              "      fill: #174EA6;\n",
              "    }\n",
              "\n",
              "    [theme=dark] .colab-df-convert {\n",
              "      background-color: #3B4455;\n",
              "      fill: #D2E3FC;\n",
              "    }\n",
              "\n",
              "    [theme=dark] .colab-df-convert:hover {\n",
              "      background-color: #434B5C;\n",
              "      box-shadow: 0px 1px 3px 1px rgba(0, 0, 0, 0.15);\n",
              "      filter: drop-shadow(0px 1px 2px rgba(0, 0, 0, 0.3));\n",
              "      fill: #FFFFFF;\n",
              "    }\n",
              "  </style>\n",
              "\n",
              "      <script>\n",
              "        const buttonEl =\n",
              "          document.querySelector('#df-384ed64f-20cc-4c56-aee2-408af7ecde42 button.colab-df-convert');\n",
              "        buttonEl.style.display =\n",
              "          google.colab.kernel.accessAllowed ? 'block' : 'none';\n",
              "\n",
              "        async function convertToInteractive(key) {\n",
              "          const element = document.querySelector('#df-384ed64f-20cc-4c56-aee2-408af7ecde42');\n",
              "          const dataTable =\n",
              "            await google.colab.kernel.invokeFunction('convertToInteractive',\n",
              "                                                     [key], {});\n",
              "          if (!dataTable) return;\n",
              "\n",
              "          const docLinkHtml = 'Like what you see? Visit the ' +\n",
              "            '<a target=\"_blank\" href=https://colab.research.google.com/notebooks/data_table.ipynb>data table notebook</a>'\n",
              "            + ' to learn more about interactive tables.';\n",
              "          element.innerHTML = '';\n",
              "          dataTable['output_type'] = 'display_data';\n",
              "          await google.colab.output.renderOutput(dataTable, element);\n",
              "          const docLink = document.createElement('div');\n",
              "          docLink.innerHTML = docLinkHtml;\n",
              "          element.appendChild(docLink);\n",
              "        }\n",
              "      </script>\n",
              "    </div>\n",
              "  </div>\n",
              "  "
            ]
          },
          "metadata": {},
          "execution_count": 5
        }
      ]
    },
    {
      "cell_type": "code",
      "source": [
        "df['collection_name'].value_counts()"
      ],
      "metadata": {
        "colab": {
          "base_uri": "https://localhost:8080/"
        },
        "id": "FR56O_OdipZ5",
        "outputId": "f6473a9b-fe11-429c-9a95-36993260498d"
      },
      "execution_count": null,
      "outputs": [
        {
          "output_type": "execute_result",
          "data": {
            "text/plain": [
              "Sorare                    40679\n",
              "Rarible                   11756\n",
              "Hashmasks                  7580\n",
              "Axie Infinity              5944\n",
              "CryptoKitties              4768\n",
              "                          ...  \n",
              "Art by Robert Rich            1\n",
              "T R A U M A                   1\n",
              "Disputationi Locus            1\n",
              "Whistlegraphs                 1\n",
              "Mattia Cuttini Produkt        1\n",
              "Name: collection_name, Length: 1552, dtype: int64"
            ]
          },
          "metadata": {},
          "execution_count": 6
        }
      ]
    },
    {
      "cell_type": "code",
      "source": [
        "df['asset_description']"
      ],
      "metadata": {
        "colab": {
          "base_uri": "https://localhost:8080/"
        },
        "id": "1qaazBzoiuVX",
        "outputId": "488b300f-68cb-4297-c5c5-d7062e83805f"
      },
      "execution_count": null,
      "outputs": [
        {
          "output_type": "execute_result",
          "data": {
            "text/plain": [
              "0         Piece of art, Daft Punk, always in our hears.\\...\n",
              "1         🐇♥️ When it comes to high kicks this Rarebit's...\n",
              "2         Meditation by Diana.\\n\\nMinted only 20 NFT col...\n",
              "3            This is one of the first NFTs in human history\n",
              "4         One of the original androids created within th...\n",
              "                                ...                        \n",
              "108142               Subtle and beautiful pixellated glass.\n",
              "108143                           DeFi taking place on Earth\n",
              "108144    Hai. My name is Chicco Egoboo, and before you ...\n",
              "108145                                   League of Kingdoms\n",
              "108146    This is a digitalized version of one of the 10...\n",
              "Name: asset_description, Length: 108147, dtype: object"
            ]
          },
          "metadata": {},
          "execution_count": 8
        }
      ]
    },
    {
      "cell_type": "code",
      "source": [
        "df['asset_description'] = df['asset_description'].str.replace('[^a-zA-Z]', ' ')\n",
        "\n",
        "df['asset_description'] = df['asset_description'].str.replace(' +', ' ')"
      ],
      "metadata": {
        "colab": {
          "base_uri": "https://localhost:8080/"
        },
        "id": "ITuKLyZJiw-Y",
        "outputId": "58a84eaa-dad2-4fc1-b660-9d360a93f086"
      },
      "execution_count": null,
      "outputs": [
        {
          "output_type": "stream",
          "name": "stderr",
          "text": [
            "/usr/local/lib/python3.7/dist-packages/ipykernel_launcher.py:1: FutureWarning: The default value of regex will change from True to False in a future version.\n",
            "  \"\"\"Entry point for launching an IPython kernel.\n",
            "/usr/local/lib/python3.7/dist-packages/ipykernel_launcher.py:3: FutureWarning: The default value of regex will change from True to False in a future version.\n",
            "  This is separate from the ipykernel package so we can avoid doing imports until\n"
          ]
        }
      ]
    },
    {
      "cell_type": "code",
      "source": [
        "stop_words = set(stopwords.words('english'))\n",
        "\n",
        "df['asset_description'] = df['asset_description'].apply(lambda x: ' '.join([word for word in str(x).split() if word not in (stop_words)]))"
      ],
      "metadata": {
        "id": "d1Bunz9giyeI"
      },
      "execution_count": null,
      "outputs": []
    },
    {
      "cell_type": "code",
      "source": [
        "df['asset_description'] = [contractions.fix(word) for word in df['asset_description']]"
      ],
      "metadata": {
        "id": "3Dh2nzzUiz6M"
      },
      "execution_count": null,
      "outputs": []
    },
    {
      "cell_type": "code",
      "source": [
        "df['asset_description']"
      ],
      "metadata": {
        "colab": {
          "base_uri": "https://localhost:8080/"
        },
        "id": "O51L3myHlvAW",
        "outputId": "73b0025a-21e0-45cb-c5bb-42a43c1b3541"
      },
      "execution_count": null,
      "outputs": [
        {
          "output_type": "execute_result",
          "data": {
            "text/plain": [
              "0                   Piece art Daft Punk always hears Size x\n",
              "1         When comes high kicks Rarebit back paws lethal...\n",
              "2                  Meditation Diana Minted NFT collectibles\n",
              "3                         This one first NFTs human history\n",
              "4         One original androids created within Chainguar...\n",
              "                                ...                        \n",
              "108142                    Subtle beautiful pixellated glass\n",
              "108143                              DeFi taking place Earth\n",
              "108144    Hai My name Chicco Egoboo ask short anything I...\n",
              "108145                                      League Kingdoms\n",
              "108146    This digitalized version one papercut artworks...\n",
              "Name: asset_description, Length: 108147, dtype: object"
            ]
          },
          "metadata": {},
          "execution_count": 12
        }
      ]
    },
    {
      "cell_type": "code",
      "source": [
        "df2 = df[['collection_name', 'asset_id', 'asset_name', 'asset_description', 'event_quantity', 'event_payment_symbol', 'event_total_price']].copy()"
      ],
      "metadata": {
        "id": "1Dh--iPZlxfp"
      },
      "execution_count": null,
      "outputs": []
    },
    {
      "cell_type": "code",
      "source": [
        "df2.head()"
      ],
      "metadata": {
        "colab": {
          "base_uri": "https://localhost:8080/",
          "height": 206
        },
        "id": "S19mdjPMrW7T",
        "outputId": "4b8ce4f1-9d5f-47f6-ed2e-925f53f738b4"
      },
      "execution_count": null,
      "outputs": [
        {
          "output_type": "execute_result",
          "data": {
            "text/plain": [
              "   collection_name  asset_id                    asset_name  \\\n",
              "0          Rarible  18214580           Daft Punk Never Die   \n",
              "1  Rarebit Bunnies  18276844  Rarebit #164 - Wax Off Bunny   \n",
              "2          Rarible  16911700                    Meditation   \n",
              "3          Rarible  16986936                        I´m OG   \n",
              "4   ChainGuardians  13382164               Celia B100 #105   \n",
              "\n",
              "                                   asset_description event_quantity  \\\n",
              "0            Piece art Daft Punk always hears Size x              1   \n",
              "1  When comes high kicks Rarebit back paws lethal...              1   \n",
              "2           Meditation Diana Minted NFT collectibles              1   \n",
              "3                  This one first NFTs human history              1   \n",
              "4  One original androids created within Chainguar...              1   \n",
              "\n",
              "  event_payment_symbol  event_total_price  \n",
              "0                  ETH           0.070000  \n",
              "1                  ETH           0.150000  \n",
              "2                  ETH           0.001000  \n",
              "3                  ETH           0.000647  \n",
              "4                  ETH           0.200000  "
            ],
            "text/html": [
              "\n",
              "  <div id=\"df-c5605bbd-5226-496c-93f6-bb4e77e10d62\">\n",
              "    <div class=\"colab-df-container\">\n",
              "      <div>\n",
              "<style scoped>\n",
              "    .dataframe tbody tr th:only-of-type {\n",
              "        vertical-align: middle;\n",
              "    }\n",
              "\n",
              "    .dataframe tbody tr th {\n",
              "        vertical-align: top;\n",
              "    }\n",
              "\n",
              "    .dataframe thead th {\n",
              "        text-align: right;\n",
              "    }\n",
              "</style>\n",
              "<table border=\"1\" class=\"dataframe\">\n",
              "  <thead>\n",
              "    <tr style=\"text-align: right;\">\n",
              "      <th></th>\n",
              "      <th>collection_name</th>\n",
              "      <th>asset_id</th>\n",
              "      <th>asset_name</th>\n",
              "      <th>asset_description</th>\n",
              "      <th>event_quantity</th>\n",
              "      <th>event_payment_symbol</th>\n",
              "      <th>event_total_price</th>\n",
              "    </tr>\n",
              "  </thead>\n",
              "  <tbody>\n",
              "    <tr>\n",
              "      <th>0</th>\n",
              "      <td>Rarible</td>\n",
              "      <td>18214580</td>\n",
              "      <td>Daft Punk Never Die</td>\n",
              "      <td>Piece art Daft Punk always hears Size x</td>\n",
              "      <td>1</td>\n",
              "      <td>ETH</td>\n",
              "      <td>0.070000</td>\n",
              "    </tr>\n",
              "    <tr>\n",
              "      <th>1</th>\n",
              "      <td>Rarebit Bunnies</td>\n",
              "      <td>18276844</td>\n",
              "      <td>Rarebit #164 - Wax Off Bunny</td>\n",
              "      <td>When comes high kicks Rarebit back paws lethal...</td>\n",
              "      <td>1</td>\n",
              "      <td>ETH</td>\n",
              "      <td>0.150000</td>\n",
              "    </tr>\n",
              "    <tr>\n",
              "      <th>2</th>\n",
              "      <td>Rarible</td>\n",
              "      <td>16911700</td>\n",
              "      <td>Meditation</td>\n",
              "      <td>Meditation Diana Minted NFT collectibles</td>\n",
              "      <td>1</td>\n",
              "      <td>ETH</td>\n",
              "      <td>0.001000</td>\n",
              "    </tr>\n",
              "    <tr>\n",
              "      <th>3</th>\n",
              "      <td>Rarible</td>\n",
              "      <td>16986936</td>\n",
              "      <td>I´m OG</td>\n",
              "      <td>This one first NFTs human history</td>\n",
              "      <td>1</td>\n",
              "      <td>ETH</td>\n",
              "      <td>0.000647</td>\n",
              "    </tr>\n",
              "    <tr>\n",
              "      <th>4</th>\n",
              "      <td>ChainGuardians</td>\n",
              "      <td>13382164</td>\n",
              "      <td>Celia B100 #105</td>\n",
              "      <td>One original androids created within Chainguar...</td>\n",
              "      <td>1</td>\n",
              "      <td>ETH</td>\n",
              "      <td>0.200000</td>\n",
              "    </tr>\n",
              "  </tbody>\n",
              "</table>\n",
              "</div>\n",
              "      <button class=\"colab-df-convert\" onclick=\"convertToInteractive('df-c5605bbd-5226-496c-93f6-bb4e77e10d62')\"\n",
              "              title=\"Convert this dataframe to an interactive table.\"\n",
              "              style=\"display:none;\">\n",
              "        \n",
              "  <svg xmlns=\"http://www.w3.org/2000/svg\" height=\"24px\"viewBox=\"0 0 24 24\"\n",
              "       width=\"24px\">\n",
              "    <path d=\"M0 0h24v24H0V0z\" fill=\"none\"/>\n",
              "    <path d=\"M18.56 5.44l.94 2.06.94-2.06 2.06-.94-2.06-.94-.94-2.06-.94 2.06-2.06.94zm-11 1L8.5 8.5l.94-2.06 2.06-.94-2.06-.94L8.5 2.5l-.94 2.06-2.06.94zm10 10l.94 2.06.94-2.06 2.06-.94-2.06-.94-.94-2.06-.94 2.06-2.06.94z\"/><path d=\"M17.41 7.96l-1.37-1.37c-.4-.4-.92-.59-1.43-.59-.52 0-1.04.2-1.43.59L10.3 9.45l-7.72 7.72c-.78.78-.78 2.05 0 2.83L4 21.41c.39.39.9.59 1.41.59.51 0 1.02-.2 1.41-.59l7.78-7.78 2.81-2.81c.8-.78.8-2.07 0-2.86zM5.41 20L4 18.59l7.72-7.72 1.47 1.35L5.41 20z\"/>\n",
              "  </svg>\n",
              "      </button>\n",
              "      \n",
              "  <style>\n",
              "    .colab-df-container {\n",
              "      display:flex;\n",
              "      flex-wrap:wrap;\n",
              "      gap: 12px;\n",
              "    }\n",
              "\n",
              "    .colab-df-convert {\n",
              "      background-color: #E8F0FE;\n",
              "      border: none;\n",
              "      border-radius: 50%;\n",
              "      cursor: pointer;\n",
              "      display: none;\n",
              "      fill: #1967D2;\n",
              "      height: 32px;\n",
              "      padding: 0 0 0 0;\n",
              "      width: 32px;\n",
              "    }\n",
              "\n",
              "    .colab-df-convert:hover {\n",
              "      background-color: #E2EBFA;\n",
              "      box-shadow: 0px 1px 2px rgba(60, 64, 67, 0.3), 0px 1px 3px 1px rgba(60, 64, 67, 0.15);\n",
              "      fill: #174EA6;\n",
              "    }\n",
              "\n",
              "    [theme=dark] .colab-df-convert {\n",
              "      background-color: #3B4455;\n",
              "      fill: #D2E3FC;\n",
              "    }\n",
              "\n",
              "    [theme=dark] .colab-df-convert:hover {\n",
              "      background-color: #434B5C;\n",
              "      box-shadow: 0px 1px 3px 1px rgba(0, 0, 0, 0.15);\n",
              "      filter: drop-shadow(0px 1px 2px rgba(0, 0, 0, 0.3));\n",
              "      fill: #FFFFFF;\n",
              "    }\n",
              "  </style>\n",
              "\n",
              "      <script>\n",
              "        const buttonEl =\n",
              "          document.querySelector('#df-c5605bbd-5226-496c-93f6-bb4e77e10d62 button.colab-df-convert');\n",
              "        buttonEl.style.display =\n",
              "          google.colab.kernel.accessAllowed ? 'block' : 'none';\n",
              "\n",
              "        async function convertToInteractive(key) {\n",
              "          const element = document.querySelector('#df-c5605bbd-5226-496c-93f6-bb4e77e10d62');\n",
              "          const dataTable =\n",
              "            await google.colab.kernel.invokeFunction('convertToInteractive',\n",
              "                                                     [key], {});\n",
              "          if (!dataTable) return;\n",
              "\n",
              "          const docLinkHtml = 'Like what you see? Visit the ' +\n",
              "            '<a target=\"_blank\" href=https://colab.research.google.com/notebooks/data_table.ipynb>data table notebook</a>'\n",
              "            + ' to learn more about interactive tables.';\n",
              "          element.innerHTML = '';\n",
              "          dataTable['output_type'] = 'display_data';\n",
              "          await google.colab.output.renderOutput(dataTable, element);\n",
              "          const docLink = document.createElement('div');\n",
              "          docLink.innerHTML = docLinkHtml;\n",
              "          element.appendChild(docLink);\n",
              "        }\n",
              "      </script>\n",
              "    </div>\n",
              "  </div>\n",
              "  "
            ]
          },
          "metadata": {},
          "execution_count": 14
        }
      ]
    },
    {
      "cell_type": "code",
      "source": [
        "from nltk.tokenize import sent_tokenize, word_tokenize\n",
        "!pip install gensim\n",
        "import gensim\n",
        "from gensim.models import Word2Vec\n",
        "import math\n",
        "import numpy as np"
      ],
      "metadata": {
        "id": "9Exy-DQosOKG",
        "colab": {
          "base_uri": "https://localhost:8080/"
        },
        "outputId": "8073bc68-c311-42e6-e18f-c1d1f439b957"
      },
      "execution_count": null,
      "outputs": [
        {
          "output_type": "stream",
          "name": "stdout",
          "text": [
            "Looking in indexes: https://pypi.org/simple, https://us-python.pkg.dev/colab-wheels/public/simple/\n",
            "Requirement already satisfied: gensim in /usr/local/lib/python3.7/dist-packages (3.6.0)\n",
            "Requirement already satisfied: smart-open>=1.2.1 in /usr/local/lib/python3.7/dist-packages (from gensim) (5.2.1)\n",
            "Requirement already satisfied: numpy>=1.11.3 in /usr/local/lib/python3.7/dist-packages (from gensim) (1.21.6)\n",
            "Requirement already satisfied: six>=1.5.0 in /usr/local/lib/python3.7/dist-packages (from gensim) (1.15.0)\n",
            "Requirement already satisfied: scipy>=0.18.1 in /usr/local/lib/python3.7/dist-packages (from gensim) (1.7.3)\n"
          ]
        }
      ]
    },
    {
      "cell_type": "code",
      "source": [
        "#dear teammates: this is a simple approach to change sentences to vectors, it is not used in later machine learning framework since the framework requires vectors to be same length, but feel free to play around with it\n",
        "#divide asset description to word lists for gensim modeling\n",
        "temp = [i.lower().split() for i in df['asset_description'].tolist()]\n",
        "#use gensim to change words to vectors\n",
        "model1 = gensim.models.Word2Vec(temp, min_count = 1, size = 10, window = 2)\n",
        "#show words most similar\n",
        "model1.wv.most_similar('art')"
      ],
      "metadata": {
        "id": "EXqnq5eXEuFj",
        "colab": {
          "base_uri": "https://localhost:8080/"
        },
        "outputId": "bdd59425-acbd-49ff-f6fb-3d1da07e6435"
      },
      "execution_count": null,
      "outputs": [
        {
          "output_type": "stream",
          "name": "stderr",
          "text": [
            "WARNING:gensim.models.base_any2vec:consider setting layer size to a multiple of 4 for greater performance\n"
          ]
        },
        {
          "output_type": "execute_result",
          "data": {
            "text/plain": [
              "[('phenomenon', 0.923448383808136),\n",
              " ('pieces', 0.9225590229034424),\n",
              " ('book', 0.92067551612854),\n",
              " ('collectibles', 0.9204301834106445),\n",
              " ('plant', 0.9144235849380493),\n",
              " ('street', 0.9113264679908752),\n",
              " ('worldbuilding', 0.8977268934249878),\n",
              " ('toy', 0.8959220051765442),\n",
              " ('nda', 0.8895646929740906),\n",
              " ('designer', 0.8880630135536194)]"
            ]
          },
          "metadata": {},
          "execution_count": 16
        }
      ]
    },
    {
      "cell_type": "code",
      "source": [
        "#combine word vectors back to sentence representations, this will show sentences as lists of vectors\n",
        "output = []\n",
        "for i in temp:\n",
        "    output.append([model1.wv[j] for j in i])\n",
        "df3 = df.copy()\n",
        "df3['asset_description'] = output\n",
        "#example\n",
        "df3['asset_description'][0]"
      ],
      "metadata": {
        "id": "ANM_5248Ew_B",
        "colab": {
          "base_uri": "https://localhost:8080/"
        },
        "outputId": "f13933ba-683f-40dc-c9b0-b59a3b75ff47"
      },
      "execution_count": null,
      "outputs": [
        {
          "output_type": "execute_result",
          "data": {
            "text/plain": [
              "[array([ 0.64766294, -3.6673346 , -3.8253    ,  0.37627667,  1.2507024 ,\n",
              "        -1.9402955 , -2.047263  ,  6.4280815 , -0.7497995 , -1.2518955 ],\n",
              "       dtype=float32),\n",
              " array([ 0.6583966, -4.1108675, -1.3229929, -2.3098106,  1.3787698,\n",
              "        -3.4588857, -2.4859002,  2.497728 ,  1.2628846, -2.7514548],\n",
              "       dtype=float32),\n",
              " array([-1.0576035 , -0.46913114, -1.2564573 ,  0.08418822, -0.1512584 ,\n",
              "        -0.27076116, -1.2880365 ,  1.0218276 , -0.5172815 , -0.4828054 ],\n",
              "       dtype=float32),\n",
              " array([-1.6990106 , -2.6895046 , -1.360458  , -0.24581786, -0.24609506,\n",
              "        -0.57498264, -3.8874304 ,  1.6346265 ,  0.0542716 , -1.1071349 ],\n",
              "       dtype=float32),\n",
              " array([-0.98356915, -3.2423668 , -3.6166136 ,  1.0605981 , -3.5556455 ,\n",
              "        -0.41451728, -3.2636209 , -2.1172621 , -2.1114798 ,  2.122012  ],\n",
              "       dtype=float32),\n",
              " array([-0.08619669, -0.53407335,  0.21943215, -0.1967231 , -0.52921206,\n",
              "        -0.25605428, -0.19174151,  0.09875664, -0.4300038 , -0.0967519 ],\n",
              "       dtype=float32),\n",
              " array([-0.9378247 , -1.4337082 , -1.980498  , -0.85575676,  0.08384933,\n",
              "        -1.1272507 , -1.7540396 ,  1.3637458 , -0.05073626, -3.7463918 ],\n",
              "       dtype=float32),\n",
              " array([-3.582432  , -0.62574613, -2.4708288 , -2.6145968 , -1.9357193 ,\n",
              "        -1.0417765 ,  0.88065964,  0.50123197, -2.143214  , -7.378555  ],\n",
              "       dtype=float32)]"
            ]
          },
          "metadata": {},
          "execution_count": 17
        }
      ]
    },
    {
      "cell_type": "code",
      "source": [
        "#change payment symbol to one-hot encoded vectors\n",
        "#show all available choices and append a \"nan\" choice\n",
        "temp = list(df3['event_payment_symbol'].value_counts().keys())\n",
        "temp.append('nan')\n",
        "original = df3['event_payment_symbol'].tolist()\n",
        "length = len(temp)\n",
        "fixed = []\n",
        "#one hot encoding\n",
        "for i in original:\n",
        "    one_hot = [0 for i in range(length)]\n",
        "    #depend on the index of available choices, change the corresponding index of one_hot to 1\n",
        "    if pd.isna(i):\n",
        "        one_hot[-1] = 1\n",
        "    else:\n",
        "        one_hot[temp.index(i)] = 1\n",
        "    fixed.append(np.array(one_hot))\n",
        "#change the dataframe\n",
        "df3['event_payment_symbol'] = fixed\n",
        "df3"
      ],
      "metadata": {
        "id": "dHLKUhHbE0aT",
        "colab": {
          "base_uri": "https://localhost:8080/",
          "height": 1000
        },
        "outputId": "bdcf523f-e32c-4302-af71-1d5048dc75aa"
      },
      "execution_count": null,
      "outputs": [
        {
          "output_type": "execute_result",
          "data": {
            "text/plain": [
              "        Unnamed: 0           collection_slug                collection_name  \\\n",
              "0                0                   rarible                        Rarible   \n",
              "1                1           rarebit-bunnies                Rarebit Bunnies   \n",
              "2                2                   rarible                        Rarible   \n",
              "3                3                   rarible                        Rarible   \n",
              "4                4            chainguardians                 ChainGuardians   \n",
              "...            ...                       ...                            ...   \n",
              "108142        7626        pixel-glass-by-kai             Pixel Glass by kai   \n",
              "108143        7627                   rarible                        Rarible   \n",
              "108144        7628             cryptokitties                  CryptoKitties   \n",
              "108145        7629        league-of-kingdoms  League of Kingdoms (Ethereum)   \n",
              "108146        7630  mattia-cuttini-produkt-1         Mattia Cuttini Produkt   \n",
              "\n",
              "                                           collection_url  asset_id  \\\n",
              "0                   https://opensea.io/collection/rarible  18214580   \n",
              "1           https://opensea.io/collection/rarebit-bunnies  18276844   \n",
              "2                   https://opensea.io/collection/rarible  16911700   \n",
              "3                   https://opensea.io/collection/rarible  16986936   \n",
              "4            https://opensea.io/collection/chainguardians  13382164   \n",
              "...                                                   ...       ...   \n",
              "108142   https://opensea.io/collection/pixel-glass-by-kai  18192273   \n",
              "108143              https://opensea.io/collection/rarible  17922363   \n",
              "108144        https://opensea.io/collection/cryptokitties  16041627   \n",
              "108145   https://opensea.io/collection/league-of-kingdoms  17498494   \n",
              "108146  https://opensea.io/collection/mattia-cuttini-p...  13364861   \n",
              "\n",
              "                              asset_name  \\\n",
              "0                    Daft Punk Never Die   \n",
              "1           Rarebit #164 - Wax Off Bunny   \n",
              "2                             Meditation   \n",
              "3                                 I´m OG   \n",
              "4                        Celia B100 #105   \n",
              "...                                  ...   \n",
              "108142                   Pixel Glass #56   \n",
              "108143                         Octospace   \n",
              "108144                     Chicco Egoboo   \n",
              "108145  LOK Land #153677 (x:1384,y:1672)   \n",
              "108146      #34 Digital Papercut Artwork   \n",
              "\n",
              "                                        asset_description  \\\n",
              "0       [[0.64766294, -3.6673346, -3.8253, 0.37627667,...   \n",
              "1       [[-0.92094195, -2.6035328, 0.35273248, -0.4336...   \n",
              "2       [[0.41003746, -0.9358685, 0.15793091, 0.171909...   \n",
              "3       [[-0.5375352, -1.2661892, -1.0621496, 1.162779...   \n",
              "4       [[-1.0165513, -3.09847, 0.15604891, 2.2576497,...   \n",
              "...                                                   ...   \n",
              "108142  [[-0.053445145, -0.6367036, -0.16853033, 0.130...   \n",
              "108143  [[-2.0908105, -0.80047333, -1.2149088, 0.44115...   \n",
              "108144  [[-0.42644227, -0.785015, 0.063885, -0.0339539...   \n",
              "108145  [[-1.7964146, 0.8024219, 0.061391044, -0.14184...   \n",
              "108146  [[-0.5375352, -1.2661892, -1.0621496, 1.162779...   \n",
              "\n",
              "               asset_contract_date  \\\n",
              "0       2020-05-27T16:53:32.834583   \n",
              "1       2021-01-21T20:43:08.113711   \n",
              "2       2020-05-27T16:53:32.834583   \n",
              "3       2020-05-27T16:53:32.834583   \n",
              "4       2019-11-17T21:00:18.404059   \n",
              "...                            ...   \n",
              "108142  2020-12-12T13:31:36.385177   \n",
              "108143  2020-05-27T16:53:32.834583   \n",
              "108144  2018-01-23T04:51:38.832339   \n",
              "108145  2020-05-25T00:01:05.581363   \n",
              "108146  2019-12-01T11:38:45.709718   \n",
              "\n",
              "                                                asset_url  \\\n",
              "0       https://opensea.io/assets/0xd07dc4262bcdbf8519...   \n",
              "1       https://opensea.io/assets/0x61bd6b10c7bf3e548f...   \n",
              "2       https://opensea.io/assets/0xd07dc4262bcdbf8519...   \n",
              "3       https://opensea.io/assets/0xd07dc4262bcdbf8519...   \n",
              "4       https://opensea.io/assets/0x4fe99deb8f0be517c3...   \n",
              "...                                                   ...   \n",
              "108142  https://opensea.io/assets/0xa7d8d9ef8d8ce8992d...   \n",
              "108143  https://opensea.io/assets/0xd07dc4262bcdbf8519...   \n",
              "108144  https://opensea.io/assets/0x06012c8cf97bead5de...   \n",
              "108145  https://opensea.io/assets/0x6cc462bc49cecfe943...   \n",
              "108146  https://opensea.io/assets/0xf80a31718151ee890a...   \n",
              "\n",
              "                                            asset_img_url  event_id  \\\n",
              "0       https://lh3.googleusercontent.com/DRaz3AD6SNrC...  80762268   \n",
              "1       https://lh3.googleusercontent.com/zI7j5Gc8jcJ_...  80762142   \n",
              "2       https://lh3.googleusercontent.com/VxNjqW9b0yKv...  80762131   \n",
              "3       https://lh3.googleusercontent.com/lwLuEUsHn2bd...  80762121   \n",
              "4       https://lh3.googleusercontent.com/ODEhFsO_E_O8...  80762099   \n",
              "...                                                   ...       ...   \n",
              "108142  https://lh3.googleusercontent.com/XzrOx1uNWMki...  80763513   \n",
              "108143  https://lh3.googleusercontent.com/wLsjC0cFEFED...  80763485   \n",
              "108144  https://lh3.googleusercontent.com/n45zWe8BSxx3...  80763404   \n",
              "108145  https://lh3.googleusercontent.com/zULek6_cD-RY...  80763356   \n",
              "108146  https://lh3.googleusercontent.com/OffGc0XyzPAD...  80763203   \n",
              "\n",
              "                        event_time event_auction_type  \\\n",
              "0       2021-02-27T23:59:19.806617              dutch   \n",
              "1       2021-02-27T23:58:48.806004              dutch   \n",
              "2       2021-02-27T23:58:46.805355              dutch   \n",
              "3       2021-02-27T23:58:45.675259              dutch   \n",
              "4       2021-02-27T23:58:43.700969                NaN   \n",
              "...                            ...                ...   \n",
              "108142  2021-02-28T00:04:38.082538                NaN   \n",
              "108143  2021-02-28T00:04:32.050031              dutch   \n",
              "108144  2021-02-28T00:04:17.263357              dutch   \n",
              "108145  2021-02-28T00:04:07.147772                NaN   \n",
              "108146  2021-02-28T00:03:23.667111                NaN   \n",
              "\n",
              "                            event_contract_address event_quantity  \\\n",
              "0       0xcd4ec7b66fbc029c116ba9ffb3e59351c20b5b06              1   \n",
              "1       0xcd4ec7b66fbc029c116ba9ffb3e59351c20b5b06              1   \n",
              "2       0xcd4ec7b66fbc029c116ba9ffb3e59351c20b5b06              1   \n",
              "3       0xcd4ec7b66fbc029c116ba9ffb3e59351c20b5b06              1   \n",
              "4       0x7be8076f4ea4a4ad08075c2508e481d6c946d12b              1   \n",
              "...                                            ...            ...   \n",
              "108142  0x7be8076f4ea4a4ad08075c2508e481d6c946d12b              1   \n",
              "108143  0xcd4ec7b66fbc029c116ba9ffb3e59351c20b5b06              1   \n",
              "108144  0xb1690c08e213a35ed9bab7b318de14420fb57d8c              1   \n",
              "108145  0x7be8076f4ea4a4ad08075c2508e481d6c946d12b              1   \n",
              "108146  0x7be8076f4ea4a4ad08075c2508e481d6c946d12b              1   \n",
              "\n",
              "                                     event_payment_symbol  event_total_price  \n",
              "0       [1, 0, 0, 0, 0, 0, 0, 0, 0, 0, 0, 0, 0, 0, 0, ...           0.070000  \n",
              "1       [1, 0, 0, 0, 0, 0, 0, 0, 0, 0, 0, 0, 0, 0, 0, ...           0.150000  \n",
              "2       [1, 0, 0, 0, 0, 0, 0, 0, 0, 0, 0, 0, 0, 0, 0, ...           0.001000  \n",
              "3       [1, 0, 0, 0, 0, 0, 0, 0, 0, 0, 0, 0, 0, 0, 0, ...           0.000647  \n",
              "4       [1, 0, 0, 0, 0, 0, 0, 0, 0, 0, 0, 0, 0, 0, 0, ...           0.200000  \n",
              "...                                                   ...                ...  \n",
              "108142  [1, 0, 0, 0, 0, 0, 0, 0, 0, 0, 0, 0, 0, 0, 0, ...           0.330000  \n",
              "108143  [1, 0, 0, 0, 0, 0, 0, 0, 0, 0, 0, 0, 0, 0, 0, ...           0.100000  \n",
              "108144  [1, 0, 0, 0, 0, 0, 0, 0, 0, 0, 0, 0, 0, 0, 0, ...           0.005000  \n",
              "108145  [1, 0, 0, 0, 0, 0, 0, 0, 0, 0, 0, 0, 0, 0, 0, ...           0.120000  \n",
              "108146  [1, 0, 0, 0, 0, 0, 0, 0, 0, 0, 0, 0, 0, 0, 0, ...           0.290000  \n",
              "\n",
              "[108147 rows x 17 columns]"
            ],
            "text/html": [
              "\n",
              "  <div id=\"df-cb7697ee-e5bc-4e53-8cbc-1acd1d0dc8fb\">\n",
              "    <div class=\"colab-df-container\">\n",
              "      <div>\n",
              "<style scoped>\n",
              "    .dataframe tbody tr th:only-of-type {\n",
              "        vertical-align: middle;\n",
              "    }\n",
              "\n",
              "    .dataframe tbody tr th {\n",
              "        vertical-align: top;\n",
              "    }\n",
              "\n",
              "    .dataframe thead th {\n",
              "        text-align: right;\n",
              "    }\n",
              "</style>\n",
              "<table border=\"1\" class=\"dataframe\">\n",
              "  <thead>\n",
              "    <tr style=\"text-align: right;\">\n",
              "      <th></th>\n",
              "      <th>Unnamed: 0</th>\n",
              "      <th>collection_slug</th>\n",
              "      <th>collection_name</th>\n",
              "      <th>collection_url</th>\n",
              "      <th>asset_id</th>\n",
              "      <th>asset_name</th>\n",
              "      <th>asset_description</th>\n",
              "      <th>asset_contract_date</th>\n",
              "      <th>asset_url</th>\n",
              "      <th>asset_img_url</th>\n",
              "      <th>event_id</th>\n",
              "      <th>event_time</th>\n",
              "      <th>event_auction_type</th>\n",
              "      <th>event_contract_address</th>\n",
              "      <th>event_quantity</th>\n",
              "      <th>event_payment_symbol</th>\n",
              "      <th>event_total_price</th>\n",
              "    </tr>\n",
              "  </thead>\n",
              "  <tbody>\n",
              "    <tr>\n",
              "      <th>0</th>\n",
              "      <td>0</td>\n",
              "      <td>rarible</td>\n",
              "      <td>Rarible</td>\n",
              "      <td>https://opensea.io/collection/rarible</td>\n",
              "      <td>18214580</td>\n",
              "      <td>Daft Punk Never Die</td>\n",
              "      <td>[[0.64766294, -3.6673346, -3.8253, 0.37627667,...</td>\n",
              "      <td>2020-05-27T16:53:32.834583</td>\n",
              "      <td>https://opensea.io/assets/0xd07dc4262bcdbf8519...</td>\n",
              "      <td>https://lh3.googleusercontent.com/DRaz3AD6SNrC...</td>\n",
              "      <td>80762268</td>\n",
              "      <td>2021-02-27T23:59:19.806617</td>\n",
              "      <td>dutch</td>\n",
              "      <td>0xcd4ec7b66fbc029c116ba9ffb3e59351c20b5b06</td>\n",
              "      <td>1</td>\n",
              "      <td>[1, 0, 0, 0, 0, 0, 0, 0, 0, 0, 0, 0, 0, 0, 0, ...</td>\n",
              "      <td>0.070000</td>\n",
              "    </tr>\n",
              "    <tr>\n",
              "      <th>1</th>\n",
              "      <td>1</td>\n",
              "      <td>rarebit-bunnies</td>\n",
              "      <td>Rarebit Bunnies</td>\n",
              "      <td>https://opensea.io/collection/rarebit-bunnies</td>\n",
              "      <td>18276844</td>\n",
              "      <td>Rarebit #164 - Wax Off Bunny</td>\n",
              "      <td>[[-0.92094195, -2.6035328, 0.35273248, -0.4336...</td>\n",
              "      <td>2021-01-21T20:43:08.113711</td>\n",
              "      <td>https://opensea.io/assets/0x61bd6b10c7bf3e548f...</td>\n",
              "      <td>https://lh3.googleusercontent.com/zI7j5Gc8jcJ_...</td>\n",
              "      <td>80762142</td>\n",
              "      <td>2021-02-27T23:58:48.806004</td>\n",
              "      <td>dutch</td>\n",
              "      <td>0xcd4ec7b66fbc029c116ba9ffb3e59351c20b5b06</td>\n",
              "      <td>1</td>\n",
              "      <td>[1, 0, 0, 0, 0, 0, 0, 0, 0, 0, 0, 0, 0, 0, 0, ...</td>\n",
              "      <td>0.150000</td>\n",
              "    </tr>\n",
              "    <tr>\n",
              "      <th>2</th>\n",
              "      <td>2</td>\n",
              "      <td>rarible</td>\n",
              "      <td>Rarible</td>\n",
              "      <td>https://opensea.io/collection/rarible</td>\n",
              "      <td>16911700</td>\n",
              "      <td>Meditation</td>\n",
              "      <td>[[0.41003746, -0.9358685, 0.15793091, 0.171909...</td>\n",
              "      <td>2020-05-27T16:53:32.834583</td>\n",
              "      <td>https://opensea.io/assets/0xd07dc4262bcdbf8519...</td>\n",
              "      <td>https://lh3.googleusercontent.com/VxNjqW9b0yKv...</td>\n",
              "      <td>80762131</td>\n",
              "      <td>2021-02-27T23:58:46.805355</td>\n",
              "      <td>dutch</td>\n",
              "      <td>0xcd4ec7b66fbc029c116ba9ffb3e59351c20b5b06</td>\n",
              "      <td>1</td>\n",
              "      <td>[1, 0, 0, 0, 0, 0, 0, 0, 0, 0, 0, 0, 0, 0, 0, ...</td>\n",
              "      <td>0.001000</td>\n",
              "    </tr>\n",
              "    <tr>\n",
              "      <th>3</th>\n",
              "      <td>3</td>\n",
              "      <td>rarible</td>\n",
              "      <td>Rarible</td>\n",
              "      <td>https://opensea.io/collection/rarible</td>\n",
              "      <td>16986936</td>\n",
              "      <td>I´m OG</td>\n",
              "      <td>[[-0.5375352, -1.2661892, -1.0621496, 1.162779...</td>\n",
              "      <td>2020-05-27T16:53:32.834583</td>\n",
              "      <td>https://opensea.io/assets/0xd07dc4262bcdbf8519...</td>\n",
              "      <td>https://lh3.googleusercontent.com/lwLuEUsHn2bd...</td>\n",
              "      <td>80762121</td>\n",
              "      <td>2021-02-27T23:58:45.675259</td>\n",
              "      <td>dutch</td>\n",
              "      <td>0xcd4ec7b66fbc029c116ba9ffb3e59351c20b5b06</td>\n",
              "      <td>1</td>\n",
              "      <td>[1, 0, 0, 0, 0, 0, 0, 0, 0, 0, 0, 0, 0, 0, 0, ...</td>\n",
              "      <td>0.000647</td>\n",
              "    </tr>\n",
              "    <tr>\n",
              "      <th>4</th>\n",
              "      <td>4</td>\n",
              "      <td>chainguardians</td>\n",
              "      <td>ChainGuardians</td>\n",
              "      <td>https://opensea.io/collection/chainguardians</td>\n",
              "      <td>13382164</td>\n",
              "      <td>Celia B100 #105</td>\n",
              "      <td>[[-1.0165513, -3.09847, 0.15604891, 2.2576497,...</td>\n",
              "      <td>2019-11-17T21:00:18.404059</td>\n",
              "      <td>https://opensea.io/assets/0x4fe99deb8f0be517c3...</td>\n",
              "      <td>https://lh3.googleusercontent.com/ODEhFsO_E_O8...</td>\n",
              "      <td>80762099</td>\n",
              "      <td>2021-02-27T23:58:43.700969</td>\n",
              "      <td>NaN</td>\n",
              "      <td>0x7be8076f4ea4a4ad08075c2508e481d6c946d12b</td>\n",
              "      <td>1</td>\n",
              "      <td>[1, 0, 0, 0, 0, 0, 0, 0, 0, 0, 0, 0, 0, 0, 0, ...</td>\n",
              "      <td>0.200000</td>\n",
              "    </tr>\n",
              "    <tr>\n",
              "      <th>...</th>\n",
              "      <td>...</td>\n",
              "      <td>...</td>\n",
              "      <td>...</td>\n",
              "      <td>...</td>\n",
              "      <td>...</td>\n",
              "      <td>...</td>\n",
              "      <td>...</td>\n",
              "      <td>...</td>\n",
              "      <td>...</td>\n",
              "      <td>...</td>\n",
              "      <td>...</td>\n",
              "      <td>...</td>\n",
              "      <td>...</td>\n",
              "      <td>...</td>\n",
              "      <td>...</td>\n",
              "      <td>...</td>\n",
              "      <td>...</td>\n",
              "    </tr>\n",
              "    <tr>\n",
              "      <th>108142</th>\n",
              "      <td>7626</td>\n",
              "      <td>pixel-glass-by-kai</td>\n",
              "      <td>Pixel Glass by kai</td>\n",
              "      <td>https://opensea.io/collection/pixel-glass-by-kai</td>\n",
              "      <td>18192273</td>\n",
              "      <td>Pixel Glass #56</td>\n",
              "      <td>[[-0.053445145, -0.6367036, -0.16853033, 0.130...</td>\n",
              "      <td>2020-12-12T13:31:36.385177</td>\n",
              "      <td>https://opensea.io/assets/0xa7d8d9ef8d8ce8992d...</td>\n",
              "      <td>https://lh3.googleusercontent.com/XzrOx1uNWMki...</td>\n",
              "      <td>80763513</td>\n",
              "      <td>2021-02-28T00:04:38.082538</td>\n",
              "      <td>NaN</td>\n",
              "      <td>0x7be8076f4ea4a4ad08075c2508e481d6c946d12b</td>\n",
              "      <td>1</td>\n",
              "      <td>[1, 0, 0, 0, 0, 0, 0, 0, 0, 0, 0, 0, 0, 0, 0, ...</td>\n",
              "      <td>0.330000</td>\n",
              "    </tr>\n",
              "    <tr>\n",
              "      <th>108143</th>\n",
              "      <td>7627</td>\n",
              "      <td>rarible</td>\n",
              "      <td>Rarible</td>\n",
              "      <td>https://opensea.io/collection/rarible</td>\n",
              "      <td>17922363</td>\n",
              "      <td>Octospace</td>\n",
              "      <td>[[-2.0908105, -0.80047333, -1.2149088, 0.44115...</td>\n",
              "      <td>2020-05-27T16:53:32.834583</td>\n",
              "      <td>https://opensea.io/assets/0xd07dc4262bcdbf8519...</td>\n",
              "      <td>https://lh3.googleusercontent.com/wLsjC0cFEFED...</td>\n",
              "      <td>80763485</td>\n",
              "      <td>2021-02-28T00:04:32.050031</td>\n",
              "      <td>dutch</td>\n",
              "      <td>0xcd4ec7b66fbc029c116ba9ffb3e59351c20b5b06</td>\n",
              "      <td>1</td>\n",
              "      <td>[1, 0, 0, 0, 0, 0, 0, 0, 0, 0, 0, 0, 0, 0, 0, ...</td>\n",
              "      <td>0.100000</td>\n",
              "    </tr>\n",
              "    <tr>\n",
              "      <th>108144</th>\n",
              "      <td>7628</td>\n",
              "      <td>cryptokitties</td>\n",
              "      <td>CryptoKitties</td>\n",
              "      <td>https://opensea.io/collection/cryptokitties</td>\n",
              "      <td>16041627</td>\n",
              "      <td>Chicco Egoboo</td>\n",
              "      <td>[[-0.42644227, -0.785015, 0.063885, -0.0339539...</td>\n",
              "      <td>2018-01-23T04:51:38.832339</td>\n",
              "      <td>https://opensea.io/assets/0x06012c8cf97bead5de...</td>\n",
              "      <td>https://lh3.googleusercontent.com/n45zWe8BSxx3...</td>\n",
              "      <td>80763404</td>\n",
              "      <td>2021-02-28T00:04:17.263357</td>\n",
              "      <td>dutch</td>\n",
              "      <td>0xb1690c08e213a35ed9bab7b318de14420fb57d8c</td>\n",
              "      <td>1</td>\n",
              "      <td>[1, 0, 0, 0, 0, 0, 0, 0, 0, 0, 0, 0, 0, 0, 0, ...</td>\n",
              "      <td>0.005000</td>\n",
              "    </tr>\n",
              "    <tr>\n",
              "      <th>108145</th>\n",
              "      <td>7629</td>\n",
              "      <td>league-of-kingdoms</td>\n",
              "      <td>League of Kingdoms (Ethereum)</td>\n",
              "      <td>https://opensea.io/collection/league-of-kingdoms</td>\n",
              "      <td>17498494</td>\n",
              "      <td>LOK Land #153677 (x:1384,y:1672)</td>\n",
              "      <td>[[-1.7964146, 0.8024219, 0.061391044, -0.14184...</td>\n",
              "      <td>2020-05-25T00:01:05.581363</td>\n",
              "      <td>https://opensea.io/assets/0x6cc462bc49cecfe943...</td>\n",
              "      <td>https://lh3.googleusercontent.com/zULek6_cD-RY...</td>\n",
              "      <td>80763356</td>\n",
              "      <td>2021-02-28T00:04:07.147772</td>\n",
              "      <td>NaN</td>\n",
              "      <td>0x7be8076f4ea4a4ad08075c2508e481d6c946d12b</td>\n",
              "      <td>1</td>\n",
              "      <td>[1, 0, 0, 0, 0, 0, 0, 0, 0, 0, 0, 0, 0, 0, 0, ...</td>\n",
              "      <td>0.120000</td>\n",
              "    </tr>\n",
              "    <tr>\n",
              "      <th>108146</th>\n",
              "      <td>7630</td>\n",
              "      <td>mattia-cuttini-produkt-1</td>\n",
              "      <td>Mattia Cuttini Produkt</td>\n",
              "      <td>https://opensea.io/collection/mattia-cuttini-p...</td>\n",
              "      <td>13364861</td>\n",
              "      <td>#34 Digital Papercut Artwork</td>\n",
              "      <td>[[-0.5375352, -1.2661892, -1.0621496, 1.162779...</td>\n",
              "      <td>2019-12-01T11:38:45.709718</td>\n",
              "      <td>https://opensea.io/assets/0xf80a31718151ee890a...</td>\n",
              "      <td>https://lh3.googleusercontent.com/OffGc0XyzPAD...</td>\n",
              "      <td>80763203</td>\n",
              "      <td>2021-02-28T00:03:23.667111</td>\n",
              "      <td>NaN</td>\n",
              "      <td>0x7be8076f4ea4a4ad08075c2508e481d6c946d12b</td>\n",
              "      <td>1</td>\n",
              "      <td>[1, 0, 0, 0, 0, 0, 0, 0, 0, 0, 0, 0, 0, 0, 0, ...</td>\n",
              "      <td>0.290000</td>\n",
              "    </tr>\n",
              "  </tbody>\n",
              "</table>\n",
              "<p>108147 rows × 17 columns</p>\n",
              "</div>\n",
              "      <button class=\"colab-df-convert\" onclick=\"convertToInteractive('df-cb7697ee-e5bc-4e53-8cbc-1acd1d0dc8fb')\"\n",
              "              title=\"Convert this dataframe to an interactive table.\"\n",
              "              style=\"display:none;\">\n",
              "        \n",
              "  <svg xmlns=\"http://www.w3.org/2000/svg\" height=\"24px\"viewBox=\"0 0 24 24\"\n",
              "       width=\"24px\">\n",
              "    <path d=\"M0 0h24v24H0V0z\" fill=\"none\"/>\n",
              "    <path d=\"M18.56 5.44l.94 2.06.94-2.06 2.06-.94-2.06-.94-.94-2.06-.94 2.06-2.06.94zm-11 1L8.5 8.5l.94-2.06 2.06-.94-2.06-.94L8.5 2.5l-.94 2.06-2.06.94zm10 10l.94 2.06.94-2.06 2.06-.94-2.06-.94-.94-2.06-.94 2.06-2.06.94z\"/><path d=\"M17.41 7.96l-1.37-1.37c-.4-.4-.92-.59-1.43-.59-.52 0-1.04.2-1.43.59L10.3 9.45l-7.72 7.72c-.78.78-.78 2.05 0 2.83L4 21.41c.39.39.9.59 1.41.59.51 0 1.02-.2 1.41-.59l7.78-7.78 2.81-2.81c.8-.78.8-2.07 0-2.86zM5.41 20L4 18.59l7.72-7.72 1.47 1.35L5.41 20z\"/>\n",
              "  </svg>\n",
              "      </button>\n",
              "      \n",
              "  <style>\n",
              "    .colab-df-container {\n",
              "      display:flex;\n",
              "      flex-wrap:wrap;\n",
              "      gap: 12px;\n",
              "    }\n",
              "\n",
              "    .colab-df-convert {\n",
              "      background-color: #E8F0FE;\n",
              "      border: none;\n",
              "      border-radius: 50%;\n",
              "      cursor: pointer;\n",
              "      display: none;\n",
              "      fill: #1967D2;\n",
              "      height: 32px;\n",
              "      padding: 0 0 0 0;\n",
              "      width: 32px;\n",
              "    }\n",
              "\n",
              "    .colab-df-convert:hover {\n",
              "      background-color: #E2EBFA;\n",
              "      box-shadow: 0px 1px 2px rgba(60, 64, 67, 0.3), 0px 1px 3px 1px rgba(60, 64, 67, 0.15);\n",
              "      fill: #174EA6;\n",
              "    }\n",
              "\n",
              "    [theme=dark] .colab-df-convert {\n",
              "      background-color: #3B4455;\n",
              "      fill: #D2E3FC;\n",
              "    }\n",
              "\n",
              "    [theme=dark] .colab-df-convert:hover {\n",
              "      background-color: #434B5C;\n",
              "      box-shadow: 0px 1px 3px 1px rgba(0, 0, 0, 0.15);\n",
              "      filter: drop-shadow(0px 1px 2px rgba(0, 0, 0, 0.3));\n",
              "      fill: #FFFFFF;\n",
              "    }\n",
              "  </style>\n",
              "\n",
              "      <script>\n",
              "        const buttonEl =\n",
              "          document.querySelector('#df-cb7697ee-e5bc-4e53-8cbc-1acd1d0dc8fb button.colab-df-convert');\n",
              "        buttonEl.style.display =\n",
              "          google.colab.kernel.accessAllowed ? 'block' : 'none';\n",
              "\n",
              "        async function convertToInteractive(key) {\n",
              "          const element = document.querySelector('#df-cb7697ee-e5bc-4e53-8cbc-1acd1d0dc8fb');\n",
              "          const dataTable =\n",
              "            await google.colab.kernel.invokeFunction('convertToInteractive',\n",
              "                                                     [key], {});\n",
              "          if (!dataTable) return;\n",
              "\n",
              "          const docLinkHtml = 'Like what you see? Visit the ' +\n",
              "            '<a target=\"_blank\" href=https://colab.research.google.com/notebooks/data_table.ipynb>data table notebook</a>'\n",
              "            + ' to learn more about interactive tables.';\n",
              "          element.innerHTML = '';\n",
              "          dataTable['output_type'] = 'display_data';\n",
              "          await google.colab.output.renderOutput(dataTable, element);\n",
              "          const docLink = document.createElement('div');\n",
              "          docLink.innerHTML = docLinkHtml;\n",
              "          element.appendChild(docLink);\n",
              "        }\n",
              "      </script>\n",
              "    </div>\n",
              "  </div>\n",
              "  "
            ]
          },
          "metadata": {},
          "execution_count": 18
        }
      ]
    },
    {
      "cell_type": "code",
      "source": [
        "!pip install tensorflow_hub\n",
        "import tensorflow_hub as hub\n",
        "embed = hub.load(\"https://tfhub.dev/google/universal-sentence-encoder/4\")\n",
        "option2 = df2['asset_description'].tolist()\n",
        "embedding2 = embed(option2)\n",
        "embedding2"
      ],
      "metadata": {
        "id": "s89hlbgiE5UV",
        "colab": {
          "base_uri": "https://localhost:8080/"
        },
        "outputId": "b3fb2a15-f439-4f0a-94fc-cad646dffca8"
      },
      "execution_count": null,
      "outputs": [
        {
          "output_type": "stream",
          "name": "stdout",
          "text": [
            "Looking in indexes: https://pypi.org/simple, https://us-python.pkg.dev/colab-wheels/public/simple/\n",
            "Requirement already satisfied: tensorflow_hub in /usr/local/lib/python3.7/dist-packages (0.12.0)\n",
            "Requirement already satisfied: protobuf>=3.8.0 in /usr/local/lib/python3.7/dist-packages (from tensorflow_hub) (3.17.3)\n",
            "Requirement already satisfied: numpy>=1.12.0 in /usr/local/lib/python3.7/dist-packages (from tensorflow_hub) (1.21.6)\n",
            "Requirement already satisfied: six>=1.9 in /usr/local/lib/python3.7/dist-packages (from protobuf>=3.8.0->tensorflow_hub) (1.15.0)\n"
          ]
        },
        {
          "output_type": "execute_result",
          "data": {
            "text/plain": [
              "<tf.Tensor: shape=(108147, 512), dtype=float32, numpy=\n",
              "array([[-0.01567345,  0.00474346,  0.08827167, ..., -0.03697915,\n",
              "        -0.04431408, -0.06884707],\n",
              "       [-0.06316305, -0.02331999,  0.05708297, ...,  0.05747549,\n",
              "        -0.0418851 , -0.05327975],\n",
              "       [ 0.04731797, -0.02920429,  0.04567582, ..., -0.01491263,\n",
              "         0.02718282, -0.04918573],\n",
              "       ...,\n",
              "       [-0.03694192,  0.0152527 , -0.01326215, ...,  0.03390228,\n",
              "        -0.03423142, -0.05085567],\n",
              "       [-0.03832909, -0.06478211,  0.06666672, ..., -0.07287212,\n",
              "         0.0217264 , -0.04724667],\n",
              "       [-0.06784014, -0.01953815,  0.0619515 , ..., -0.03810884,\n",
              "         0.00204523, -0.06827345]], dtype=float32)>"
            ]
          },
          "metadata": {},
          "execution_count": 19
        }
      ]
    },
    {
      "cell_type": "code",
      "source": [
        "df4 = df3.copy()\n",
        "#this uses a new embedding imported above. please give it sometime since our dataset is big.\n",
        "df4['asset_description'] = [i.numpy().tolist() for i in embedding2]\n",
        "df4.head()"
      ],
      "metadata": {
        "id": "i9ntaDREFCej",
        "colab": {
          "base_uri": "https://localhost:8080/",
          "height": 461
        },
        "outputId": "308c5e99-d645-40f9-9274-7f9a6881e636"
      },
      "execution_count": null,
      "outputs": [
        {
          "output_type": "execute_result",
          "data": {
            "text/plain": [
              "   Unnamed: 0  collection_slug  collection_name  \\\n",
              "0           0          rarible          Rarible   \n",
              "1           1  rarebit-bunnies  Rarebit Bunnies   \n",
              "2           2          rarible          Rarible   \n",
              "3           3          rarible          Rarible   \n",
              "4           4   chainguardians   ChainGuardians   \n",
              "\n",
              "                                  collection_url  asset_id  \\\n",
              "0          https://opensea.io/collection/rarible  18214580   \n",
              "1  https://opensea.io/collection/rarebit-bunnies  18276844   \n",
              "2          https://opensea.io/collection/rarible  16911700   \n",
              "3          https://opensea.io/collection/rarible  16986936   \n",
              "4   https://opensea.io/collection/chainguardians  13382164   \n",
              "\n",
              "                     asset_name  \\\n",
              "0           Daft Punk Never Die   \n",
              "1  Rarebit #164 - Wax Off Bunny   \n",
              "2                    Meditation   \n",
              "3                        I´m OG   \n",
              "4               Celia B100 #105   \n",
              "\n",
              "                                   asset_description  \\\n",
              "0  [-0.015673452988266945, 0.004743464291095734, ...   \n",
              "1  [-0.06316304951906204, -0.02331998571753502, 0...   \n",
              "2  [0.04731797054409981, -0.029204290360212326, 0...   \n",
              "3  [0.06569474935531616, -0.07215578109025955, -0...   \n",
              "4  [-0.045064933598041534, -0.05239624157547951, ...   \n",
              "\n",
              "          asset_contract_date  \\\n",
              "0  2020-05-27T16:53:32.834583   \n",
              "1  2021-01-21T20:43:08.113711   \n",
              "2  2020-05-27T16:53:32.834583   \n",
              "3  2020-05-27T16:53:32.834583   \n",
              "4  2019-11-17T21:00:18.404059   \n",
              "\n",
              "                                           asset_url  \\\n",
              "0  https://opensea.io/assets/0xd07dc4262bcdbf8519...   \n",
              "1  https://opensea.io/assets/0x61bd6b10c7bf3e548f...   \n",
              "2  https://opensea.io/assets/0xd07dc4262bcdbf8519...   \n",
              "3  https://opensea.io/assets/0xd07dc4262bcdbf8519...   \n",
              "4  https://opensea.io/assets/0x4fe99deb8f0be517c3...   \n",
              "\n",
              "                                       asset_img_url  event_id  \\\n",
              "0  https://lh3.googleusercontent.com/DRaz3AD6SNrC...  80762268   \n",
              "1  https://lh3.googleusercontent.com/zI7j5Gc8jcJ_...  80762142   \n",
              "2  https://lh3.googleusercontent.com/VxNjqW9b0yKv...  80762131   \n",
              "3  https://lh3.googleusercontent.com/lwLuEUsHn2bd...  80762121   \n",
              "4  https://lh3.googleusercontent.com/ODEhFsO_E_O8...  80762099   \n",
              "\n",
              "                   event_time event_auction_type  \\\n",
              "0  2021-02-27T23:59:19.806617              dutch   \n",
              "1  2021-02-27T23:58:48.806004              dutch   \n",
              "2  2021-02-27T23:58:46.805355              dutch   \n",
              "3  2021-02-27T23:58:45.675259              dutch   \n",
              "4  2021-02-27T23:58:43.700969                NaN   \n",
              "\n",
              "                       event_contract_address event_quantity  \\\n",
              "0  0xcd4ec7b66fbc029c116ba9ffb3e59351c20b5b06              1   \n",
              "1  0xcd4ec7b66fbc029c116ba9ffb3e59351c20b5b06              1   \n",
              "2  0xcd4ec7b66fbc029c116ba9ffb3e59351c20b5b06              1   \n",
              "3  0xcd4ec7b66fbc029c116ba9ffb3e59351c20b5b06              1   \n",
              "4  0x7be8076f4ea4a4ad08075c2508e481d6c946d12b              1   \n",
              "\n",
              "                                event_payment_symbol  event_total_price  \n",
              "0  [1, 0, 0, 0, 0, 0, 0, 0, 0, 0, 0, 0, 0, 0, 0, ...           0.070000  \n",
              "1  [1, 0, 0, 0, 0, 0, 0, 0, 0, 0, 0, 0, 0, 0, 0, ...           0.150000  \n",
              "2  [1, 0, 0, 0, 0, 0, 0, 0, 0, 0, 0, 0, 0, 0, 0, ...           0.001000  \n",
              "3  [1, 0, 0, 0, 0, 0, 0, 0, 0, 0, 0, 0, 0, 0, 0, ...           0.000647  \n",
              "4  [1, 0, 0, 0, 0, 0, 0, 0, 0, 0, 0, 0, 0, 0, 0, ...           0.200000  "
            ],
            "text/html": [
              "\n",
              "  <div id=\"df-e938641e-c6af-4ace-81df-0db7dd076533\">\n",
              "    <div class=\"colab-df-container\">\n",
              "      <div>\n",
              "<style scoped>\n",
              "    .dataframe tbody tr th:only-of-type {\n",
              "        vertical-align: middle;\n",
              "    }\n",
              "\n",
              "    .dataframe tbody tr th {\n",
              "        vertical-align: top;\n",
              "    }\n",
              "\n",
              "    .dataframe thead th {\n",
              "        text-align: right;\n",
              "    }\n",
              "</style>\n",
              "<table border=\"1\" class=\"dataframe\">\n",
              "  <thead>\n",
              "    <tr style=\"text-align: right;\">\n",
              "      <th></th>\n",
              "      <th>Unnamed: 0</th>\n",
              "      <th>collection_slug</th>\n",
              "      <th>collection_name</th>\n",
              "      <th>collection_url</th>\n",
              "      <th>asset_id</th>\n",
              "      <th>asset_name</th>\n",
              "      <th>asset_description</th>\n",
              "      <th>asset_contract_date</th>\n",
              "      <th>asset_url</th>\n",
              "      <th>asset_img_url</th>\n",
              "      <th>event_id</th>\n",
              "      <th>event_time</th>\n",
              "      <th>event_auction_type</th>\n",
              "      <th>event_contract_address</th>\n",
              "      <th>event_quantity</th>\n",
              "      <th>event_payment_symbol</th>\n",
              "      <th>event_total_price</th>\n",
              "    </tr>\n",
              "  </thead>\n",
              "  <tbody>\n",
              "    <tr>\n",
              "      <th>0</th>\n",
              "      <td>0</td>\n",
              "      <td>rarible</td>\n",
              "      <td>Rarible</td>\n",
              "      <td>https://opensea.io/collection/rarible</td>\n",
              "      <td>18214580</td>\n",
              "      <td>Daft Punk Never Die</td>\n",
              "      <td>[-0.015673452988266945, 0.004743464291095734, ...</td>\n",
              "      <td>2020-05-27T16:53:32.834583</td>\n",
              "      <td>https://opensea.io/assets/0xd07dc4262bcdbf8519...</td>\n",
              "      <td>https://lh3.googleusercontent.com/DRaz3AD6SNrC...</td>\n",
              "      <td>80762268</td>\n",
              "      <td>2021-02-27T23:59:19.806617</td>\n",
              "      <td>dutch</td>\n",
              "      <td>0xcd4ec7b66fbc029c116ba9ffb3e59351c20b5b06</td>\n",
              "      <td>1</td>\n",
              "      <td>[1, 0, 0, 0, 0, 0, 0, 0, 0, 0, 0, 0, 0, 0, 0, ...</td>\n",
              "      <td>0.070000</td>\n",
              "    </tr>\n",
              "    <tr>\n",
              "      <th>1</th>\n",
              "      <td>1</td>\n",
              "      <td>rarebit-bunnies</td>\n",
              "      <td>Rarebit Bunnies</td>\n",
              "      <td>https://opensea.io/collection/rarebit-bunnies</td>\n",
              "      <td>18276844</td>\n",
              "      <td>Rarebit #164 - Wax Off Bunny</td>\n",
              "      <td>[-0.06316304951906204, -0.02331998571753502, 0...</td>\n",
              "      <td>2021-01-21T20:43:08.113711</td>\n",
              "      <td>https://opensea.io/assets/0x61bd6b10c7bf3e548f...</td>\n",
              "      <td>https://lh3.googleusercontent.com/zI7j5Gc8jcJ_...</td>\n",
              "      <td>80762142</td>\n",
              "      <td>2021-02-27T23:58:48.806004</td>\n",
              "      <td>dutch</td>\n",
              "      <td>0xcd4ec7b66fbc029c116ba9ffb3e59351c20b5b06</td>\n",
              "      <td>1</td>\n",
              "      <td>[1, 0, 0, 0, 0, 0, 0, 0, 0, 0, 0, 0, 0, 0, 0, ...</td>\n",
              "      <td>0.150000</td>\n",
              "    </tr>\n",
              "    <tr>\n",
              "      <th>2</th>\n",
              "      <td>2</td>\n",
              "      <td>rarible</td>\n",
              "      <td>Rarible</td>\n",
              "      <td>https://opensea.io/collection/rarible</td>\n",
              "      <td>16911700</td>\n",
              "      <td>Meditation</td>\n",
              "      <td>[0.04731797054409981, -0.029204290360212326, 0...</td>\n",
              "      <td>2020-05-27T16:53:32.834583</td>\n",
              "      <td>https://opensea.io/assets/0xd07dc4262bcdbf8519...</td>\n",
              "      <td>https://lh3.googleusercontent.com/VxNjqW9b0yKv...</td>\n",
              "      <td>80762131</td>\n",
              "      <td>2021-02-27T23:58:46.805355</td>\n",
              "      <td>dutch</td>\n",
              "      <td>0xcd4ec7b66fbc029c116ba9ffb3e59351c20b5b06</td>\n",
              "      <td>1</td>\n",
              "      <td>[1, 0, 0, 0, 0, 0, 0, 0, 0, 0, 0, 0, 0, 0, 0, ...</td>\n",
              "      <td>0.001000</td>\n",
              "    </tr>\n",
              "    <tr>\n",
              "      <th>3</th>\n",
              "      <td>3</td>\n",
              "      <td>rarible</td>\n",
              "      <td>Rarible</td>\n",
              "      <td>https://opensea.io/collection/rarible</td>\n",
              "      <td>16986936</td>\n",
              "      <td>I´m OG</td>\n",
              "      <td>[0.06569474935531616, -0.07215578109025955, -0...</td>\n",
              "      <td>2020-05-27T16:53:32.834583</td>\n",
              "      <td>https://opensea.io/assets/0xd07dc4262bcdbf8519...</td>\n",
              "      <td>https://lh3.googleusercontent.com/lwLuEUsHn2bd...</td>\n",
              "      <td>80762121</td>\n",
              "      <td>2021-02-27T23:58:45.675259</td>\n",
              "      <td>dutch</td>\n",
              "      <td>0xcd4ec7b66fbc029c116ba9ffb3e59351c20b5b06</td>\n",
              "      <td>1</td>\n",
              "      <td>[1, 0, 0, 0, 0, 0, 0, 0, 0, 0, 0, 0, 0, 0, 0, ...</td>\n",
              "      <td>0.000647</td>\n",
              "    </tr>\n",
              "    <tr>\n",
              "      <th>4</th>\n",
              "      <td>4</td>\n",
              "      <td>chainguardians</td>\n",
              "      <td>ChainGuardians</td>\n",
              "      <td>https://opensea.io/collection/chainguardians</td>\n",
              "      <td>13382164</td>\n",
              "      <td>Celia B100 #105</td>\n",
              "      <td>[-0.045064933598041534, -0.05239624157547951, ...</td>\n",
              "      <td>2019-11-17T21:00:18.404059</td>\n",
              "      <td>https://opensea.io/assets/0x4fe99deb8f0be517c3...</td>\n",
              "      <td>https://lh3.googleusercontent.com/ODEhFsO_E_O8...</td>\n",
              "      <td>80762099</td>\n",
              "      <td>2021-02-27T23:58:43.700969</td>\n",
              "      <td>NaN</td>\n",
              "      <td>0x7be8076f4ea4a4ad08075c2508e481d6c946d12b</td>\n",
              "      <td>1</td>\n",
              "      <td>[1, 0, 0, 0, 0, 0, 0, 0, 0, 0, 0, 0, 0, 0, 0, ...</td>\n",
              "      <td>0.200000</td>\n",
              "    </tr>\n",
              "  </tbody>\n",
              "</table>\n",
              "</div>\n",
              "      <button class=\"colab-df-convert\" onclick=\"convertToInteractive('df-e938641e-c6af-4ace-81df-0db7dd076533')\"\n",
              "              title=\"Convert this dataframe to an interactive table.\"\n",
              "              style=\"display:none;\">\n",
              "        \n",
              "  <svg xmlns=\"http://www.w3.org/2000/svg\" height=\"24px\"viewBox=\"0 0 24 24\"\n",
              "       width=\"24px\">\n",
              "    <path d=\"M0 0h24v24H0V0z\" fill=\"none\"/>\n",
              "    <path d=\"M18.56 5.44l.94 2.06.94-2.06 2.06-.94-2.06-.94-.94-2.06-.94 2.06-2.06.94zm-11 1L8.5 8.5l.94-2.06 2.06-.94-2.06-.94L8.5 2.5l-.94 2.06-2.06.94zm10 10l.94 2.06.94-2.06 2.06-.94-2.06-.94-.94-2.06-.94 2.06-2.06.94z\"/><path d=\"M17.41 7.96l-1.37-1.37c-.4-.4-.92-.59-1.43-.59-.52 0-1.04.2-1.43.59L10.3 9.45l-7.72 7.72c-.78.78-.78 2.05 0 2.83L4 21.41c.39.39.9.59 1.41.59.51 0 1.02-.2 1.41-.59l7.78-7.78 2.81-2.81c.8-.78.8-2.07 0-2.86zM5.41 20L4 18.59l7.72-7.72 1.47 1.35L5.41 20z\"/>\n",
              "  </svg>\n",
              "      </button>\n",
              "      \n",
              "  <style>\n",
              "    .colab-df-container {\n",
              "      display:flex;\n",
              "      flex-wrap:wrap;\n",
              "      gap: 12px;\n",
              "    }\n",
              "\n",
              "    .colab-df-convert {\n",
              "      background-color: #E8F0FE;\n",
              "      border: none;\n",
              "      border-radius: 50%;\n",
              "      cursor: pointer;\n",
              "      display: none;\n",
              "      fill: #1967D2;\n",
              "      height: 32px;\n",
              "      padding: 0 0 0 0;\n",
              "      width: 32px;\n",
              "    }\n",
              "\n",
              "    .colab-df-convert:hover {\n",
              "      background-color: #E2EBFA;\n",
              "      box-shadow: 0px 1px 2px rgba(60, 64, 67, 0.3), 0px 1px 3px 1px rgba(60, 64, 67, 0.15);\n",
              "      fill: #174EA6;\n",
              "    }\n",
              "\n",
              "    [theme=dark] .colab-df-convert {\n",
              "      background-color: #3B4455;\n",
              "      fill: #D2E3FC;\n",
              "    }\n",
              "\n",
              "    [theme=dark] .colab-df-convert:hover {\n",
              "      background-color: #434B5C;\n",
              "      box-shadow: 0px 1px 3px 1px rgba(0, 0, 0, 0.15);\n",
              "      filter: drop-shadow(0px 1px 2px rgba(0, 0, 0, 0.3));\n",
              "      fill: #FFFFFF;\n",
              "    }\n",
              "  </style>\n",
              "\n",
              "      <script>\n",
              "        const buttonEl =\n",
              "          document.querySelector('#df-e938641e-c6af-4ace-81df-0db7dd076533 button.colab-df-convert');\n",
              "        buttonEl.style.display =\n",
              "          google.colab.kernel.accessAllowed ? 'block' : 'none';\n",
              "\n",
              "        async function convertToInteractive(key) {\n",
              "          const element = document.querySelector('#df-e938641e-c6af-4ace-81df-0db7dd076533');\n",
              "          const dataTable =\n",
              "            await google.colab.kernel.invokeFunction('convertToInteractive',\n",
              "                                                     [key], {});\n",
              "          if (!dataTable) return;\n",
              "\n",
              "          const docLinkHtml = 'Like what you see? Visit the ' +\n",
              "            '<a target=\"_blank\" href=https://colab.research.google.com/notebooks/data_table.ipynb>data table notebook</a>'\n",
              "            + ' to learn more about interactive tables.';\n",
              "          element.innerHTML = '';\n",
              "          dataTable['output_type'] = 'display_data';\n",
              "          await google.colab.output.renderOutput(dataTable, element);\n",
              "          const docLink = document.createElement('div');\n",
              "          docLink.innerHTML = docLinkHtml;\n",
              "          element.appendChild(docLink);\n",
              "        }\n",
              "      </script>\n",
              "    </div>\n",
              "  </div>\n",
              "  "
            ]
          },
          "metadata": {},
          "execution_count": 20
        }
      ]
    },
    {
      "cell_type": "code",
      "source": [],
      "metadata": {
        "id": "oSJFTujbu0Io"
      },
      "execution_count": null,
      "outputs": []
    },
    {
      "cell_type": "code",
      "source": [
        "from sklearn import svm\n",
        "import numpy as np\n",
        "import sklearn.model_selection as model_selection\n",
        "from sklearn.metrics import accuracy_score\n",
        "from sklearn.metrics import f1_score"
      ],
      "metadata": {
        "id": "vyOgZYyWFEef"
      },
      "execution_count": null,
      "outputs": []
    },
    {
      "cell_type": "code",
      "source": [
        "#declare x and y variables for features and tags\n",
        "#was not able to put more than one high-dimensional feature into the framework, could use some help when you are playing around with it.\n",
        "x = np.array([i for i in df4['asset_description'].values])\n",
        "x2 = np.array(df4['event_payment_symbol'])\n",
        "x3 = np.array(df4['event_total_price'])\n",
        "y = np.array(df4['collection_slug'].values)\n",
        "#divide train and test data, takes forever for the whole dataset so I chose a small subset. Please refer to sklearn svm.SVC documentations for reference.\n",
        "X_train, X_test, y_train, y_test = model_selection.train_test_split(x, y, train_size=0.08, test_size=0.02, random_state=101)\n"
      ],
      "metadata": {
        "id": "bOVuyYDVFHDL"
      },
      "execution_count": null,
      "outputs": []
    },
    {
      "cell_type": "code",
      "source": [
        "#used rbf kernel, feel free to play around with arguments\n",
        "rbf = svm.SVC(kernel='rbf').fit(X_train, y_train)"
      ],
      "metadata": {
        "id": "O9Hznq-DFLuC"
      },
      "execution_count": null,
      "outputs": []
    },
    {
      "cell_type": "code",
      "source": [
        "#show test results\n",
        "rbf_pred = rbf.predict(X_test)\n",
        "rbf_accuracy = accuracy_score(y_test, rbf_pred)\n",
        "rbf_f1 = f1_score(y_test, rbf_pred, average='weighted')\n",
        "print('Accuracy (RBF Kernel): ', \"%.2f\" % (rbf_accuracy*100))\n",
        "print('F1 (RBF Kernel): ', \"%.2f\" % (rbf_f1*100))"
      ],
      "metadata": {
        "id": "r4fcXd0XFMZG",
        "colab": {
          "base_uri": "https://localhost:8080/"
        },
        "outputId": "20429c7d-c005-41d6-f007-7bf314efa9cb"
      },
      "execution_count": null,
      "outputs": [
        {
          "output_type": "stream",
          "name": "stdout",
          "text": [
            "Accuracy (RBF Kernel):  83.96\n",
            "F1 (RBF Kernel):  80.66\n"
          ]
        }
      ]
    },
    {
      "cell_type": "code",
      "source": [
        "# below is the second framework including vectorizing asset_url as the main feature\n",
        "# first extract the part of url after /assets/ since the prior parts are all the same for all nfts\n",
        "temp = [''.join(str(i).split('/')[4:]) for i in df['asset_url'].tolist()]\n",
        "# This is a different way of vectorization. I did not use the below commented embedding like in the prior part because it returns terrible results. The reason of that is URL itself ia a nonsense combination of characters, so traditional embedding does not work well in this situation.\n",
        "# In other words, there is no \"word\" in url, so I decided to use counts to vectorize every character.(can be fixed for even better results since counts can have duplicated values)\n",
        "dic = {}\n",
        "# created a dictionary to store all the counts of characters\n",
        "for i in temp:\n",
        "    for j in i:\n",
        "        if j in dic:\n",
        "                dic[j]+= 1\n",
        "        else:\n",
        "                dic[j] = 1\n",
        "# trim the lists to have all the same lengths for model to fit\n",
        "concat = min([len(i) for i in temp])\n",
        "x4 = []\n",
        "# map all vector representations of characters to new list\n",
        "for i in temp:\n",
        "    x4.append([dic[j] for j in i][:concat])\n",
        "''' this part contains the old embedding technique, refer to above on why i did not choose to use it\n",
        "temp = [''.join(i.split('/')[4:]) for i in df['asset_url'].tolist()]\n",
        "embed_url = embed(temp)\n",
        "df5 = df4.copy()\n",
        "df5['asset_url'] = [i.numpy() for i in embed_url]\n",
        "x5 = np.array([i for i in df5['asset_url'].values])\n",
        "'''"
      ],
      "metadata": {
        "id": "nHodTzSkAb-t",
        "colab": {
          "base_uri": "https://localhost:8080/",
          "height": 54
        },
        "outputId": "f056e148-a96c-4561-e549-55b341965918"
      },
      "execution_count": null,
      "outputs": [
        {
          "output_type": "execute_result",
          "data": {
            "text/plain": [
              "\" this part contains the old embedding technique, refer to above on why i did not choose to use it\\ntemp = [''.join(i.split('/')[4:]) for i in df['asset_url'].tolist()]\\nembed_url = embed(temp)\\ndf5 = df4.copy()\\ndf5['asset_url'] = [i.numpy() for i in embed_url]\\nx5 = np.array([i for i in df5['asset_url'].values])\\n\""
            ],
            "application/vnd.google.colaboratory.intrinsic+json": {
              "type": "string"
            }
          },
          "metadata": {},
          "execution_count": 25
        }
      ]
    },
    {
      "cell_type": "code",
      "source": [
        "# new dataframe to store vectorized url info\n",
        "df5 = df4.copy()\n",
        "df5['asset_url'] = [i for i in x4]\n",
        "x5 = np.array([i for i in df5['asset_url'].values])"
      ],
      "metadata": {
        "id": "8Byb1qlcAosw"
      },
      "execution_count": null,
      "outputs": []
    },
    {
      "cell_type": "code",
      "source": [
        "#same procedure as prior model to directly compare accuracies\n",
        "X_train2, X_test2, y_train2, y_test2 = model_selection.train_test_split(x5, y, train_size=0.08, test_size=0.02, random_state=101)\n",
        "rbf2 = svm.SVC(kernel='rbf').fit(X_train2, y_train2)\n",
        "rbf_pred2 = rbf2.predict(X_test2)\n",
        "rbf_accuracy2 = accuracy_score(y_test2, rbf_pred2)\n",
        "rbf_f12 = f1_score(y_test2, rbf_pred2, average='weighted')\n",
        "print('Accuracy (RBF Kernel): ', \"%.2f\" % (rbf_accuracy2*100))\n",
        "print('F1 (RBF Kernel): ', \"%.2f\" % (rbf_f12*100))"
      ],
      "metadata": {
        "id": "g0QZV5VuArSp",
        "colab": {
          "base_uri": "https://localhost:8080/"
        },
        "outputId": "a1a96c85-7706-42d4-c553-f07f7def1e2b"
      },
      "execution_count": null,
      "outputs": [
        {
          "output_type": "stream",
          "name": "stdout",
          "text": [
            "Accuracy (RBF Kernel):  89.41\n",
            "F1 (RBF Kernel):  87.77\n"
          ]
        }
      ]
    },
    {
      "cell_type": "code",
      "source": [
        "from sklearn.cluster import KMeans\n",
        "from sklearn.metrics import silhouette_score"
      ],
      "metadata": {
        "id": "h6Ol8kpcu08F"
      },
      "execution_count": null,
      "outputs": []
    },
    {
      "cell_type": "code",
      "source": [
        "# Unsupervised learning does not require tags, K-means will cluster data into K groups (K specified) based on their features. Here I used data description as feature. Will add other features soon.\n",
        "# useful links: https://towardsdatascience.com/how-to-evaluate-unsupervised-learning-models-3aa85bd98aa2 , https://towardsdatascience.com/k-means-clustering-algorithm-applications-evaluation-methods-and-drawbacks-aa03e644b48a , https://scikit-learn.org/stable/modules/generated/sklearn.cluster.KMeans.html , \n",
        "sse = []\n",
        "sil_val = []\n",
        "#try different k for an optimal number of groups\n",
        "for i in range(5, 20):\n",
        "    #this line has multiple arguments, please refer to sklearn kmeans doc for details to change arguments. this can make a major impact on how good the model is\n",
        "    kmeans = KMeans(n_clusters=i, random_state=0)\n",
        "    kmeans.fit(X_train)\n",
        "    #below commented line is showing all labels for fitted data\n",
        "    #kmeans.labels_\n",
        "    # this is the sum of squared errors for validation metric\n",
        "    sse.append(kmeans.inertia_)\n",
        "    labels = kmeans.predict(X_test)\n",
        "    #this is the silhouette score for validation metric\n",
        "    sil_val.append(silhouette_score(X_test, labels))"
      ],
      "metadata": {
        "id": "TCcgbSPvu10e"
      },
      "execution_count": null,
      "outputs": []
    },
    {
      "cell_type": "code",
      "source": [
        "#this is to print out metric for different k's\n",
        "print(sse)\n",
        "print(sil_val)"
      ],
      "metadata": {
        "id": "C_S41p-pu4ZN",
        "colab": {
          "base_uri": "https://localhost:8080/"
        },
        "outputId": "1fcb13cf-bf82-4238-a8f8-c084e97d0509"
      },
      "execution_count": null,
      "outputs": [
        {
          "output_type": "stream",
          "name": "stdout",
          "text": [
            "[3538.760084096505, 3384.279127844647, 3255.522301605331, 3185.0610760286663, 3091.220053055845, 3027.218520618113, 2976.293841720134, 2939.2132226336225, 2897.0929499032427, 2867.021293795027, 2825.1436262442035, 2793.9067352785887, 2780.5784601402056, 2745.7124484855685, 2731.541290642957]\n",
            "[0.5171013945527024, 0.5282881090471253, 0.5436738474945263, 0.5476795179499561, 0.5561561586975705, 0.5550520455785727, 0.5588222030995125, 0.560958687824291, 0.5644627067446017, 0.5687148212184154, 0.574554996002096, 0.5752587353646876, 0.57659814339977, 0.5787677195851962, 0.5817924117358806]\n"
          ]
        }
      ]
    },
    {
      "cell_type": "markdown",
      "source": [
        "## **Below is the final supervised framework including all features** \n",
        "updated 10/12"
      ],
      "metadata": {
        "id": "NavvuNW5sWSo"
      }
    },
    {
      "cell_type": "code",
      "source": [
        "# model 1: features including asset description, event payment symbol, and payment amount\n",
        "# useful links: https://medium.com/swlh/k-means-clustering-on-high-dimensional-data-d2151e1a4240 , https://towardsdatascience.com/pca-using-python-scikit-learn-e653f8989e60 , https://www.isanasystems.com/machine-learning-handling-dataset-having-multiple-features/\n",
        "from sklearn.decomposition import PCA\n",
        "from sklearn.preprocessing import StandardScaler\n",
        "from sklearn import preprocessing"
      ],
      "metadata": {
        "id": "apIW3cYcXTL1"
      },
      "execution_count": null,
      "outputs": []
    },
    {
      "cell_type": "code",
      "source": [
        "# first approach: use PCA to convert features into same dimensions. In this case we convert all three features into 52 dimensions (original dimension of event payment symbol through one hot encoding)\n",
        "pca= PCA(n_components=len(x2[0]))\n",
        "# to enhance accuracy, we use standardscaler to scale features (standardized features have mean 0 and variance 1), this is crucial for multiple feature fitting in machine learning algorithms\n",
        "transform_x = pca.fit_transform(StandardScaler().fit_transform(x))\n",
        "transform_x2 = np.array(StandardScaler().fit_transform([np.array(i) for i in x2]))\n",
        "# repolace nan numbers to 0\n",
        "transform_x3 = np.nan_to_num(np.array(StandardScaler().fit_transform([[i] * len(transform_x2[0]) for i in x3])))\n"
      ],
      "metadata": {
        "id": "L_KmCMDRXuyI",
        "colab": {
          "base_uri": "https://localhost:8080/",
          "height": 249
        },
        "outputId": "4c5a7313-b624-4097-f14b-abe887ddf4d0"
      },
      "execution_count": null,
      "outputs": [
        {
          "output_type": "error",
          "ename": "NameError",
          "evalue": "ignored",
          "traceback": [
            "\u001b[0;31m---------------------------------------------------------------------------\u001b[0m",
            "\u001b[0;31mNameError\u001b[0m                                 Traceback (most recent call last)",
            "\u001b[0;32m<ipython-input-2-c2e32b6a1520>\u001b[0m in \u001b[0;36m<module>\u001b[0;34m\u001b[0m\n\u001b[1;32m      1\u001b[0m \u001b[0;31m# first approach: use PCA to convert features into same dimensions. In this case we convert all three features into 52 dimensions (original dimension of event payment symbol through one hot encoding)\u001b[0m\u001b[0;34m\u001b[0m\u001b[0;34m\u001b[0m\u001b[0;34m\u001b[0m\u001b[0m\n\u001b[0;32m----> 2\u001b[0;31m \u001b[0mpca\u001b[0m\u001b[0;34m=\u001b[0m \u001b[0mPCA\u001b[0m\u001b[0;34m(\u001b[0m\u001b[0mn_components\u001b[0m\u001b[0;34m=\u001b[0m\u001b[0mlen\u001b[0m\u001b[0;34m(\u001b[0m\u001b[0mx2\u001b[0m\u001b[0;34m[\u001b[0m\u001b[0;36m0\u001b[0m\u001b[0;34m]\u001b[0m\u001b[0;34m)\u001b[0m\u001b[0;34m)\u001b[0m\u001b[0;34m\u001b[0m\u001b[0;34m\u001b[0m\u001b[0m\n\u001b[0m\u001b[1;32m      3\u001b[0m \u001b[0;31m# to enhance accuracy, we use standardscaler to scale features (standardized features have mean 0 and variance 1), this is crucial for multiple feature fitting in machine learning algorithms\u001b[0m\u001b[0;34m\u001b[0m\u001b[0;34m\u001b[0m\u001b[0;34m\u001b[0m\u001b[0m\n\u001b[1;32m      4\u001b[0m \u001b[0mtransform_x\u001b[0m \u001b[0;34m=\u001b[0m \u001b[0mpca\u001b[0m\u001b[0;34m.\u001b[0m\u001b[0mfit_transform\u001b[0m\u001b[0;34m(\u001b[0m\u001b[0mStandardScaler\u001b[0m\u001b[0;34m(\u001b[0m\u001b[0;34m)\u001b[0m\u001b[0;34m.\u001b[0m\u001b[0mfit_transform\u001b[0m\u001b[0;34m(\u001b[0m\u001b[0mx\u001b[0m\u001b[0;34m)\u001b[0m\u001b[0;34m)\u001b[0m\u001b[0;34m\u001b[0m\u001b[0;34m\u001b[0m\u001b[0m\n\u001b[1;32m      5\u001b[0m \u001b[0mtransform_x2\u001b[0m \u001b[0;34m=\u001b[0m \u001b[0mnp\u001b[0m\u001b[0;34m.\u001b[0m\u001b[0marray\u001b[0m\u001b[0;34m(\u001b[0m\u001b[0mStandardScaler\u001b[0m\u001b[0;34m(\u001b[0m\u001b[0;34m)\u001b[0m\u001b[0;34m.\u001b[0m\u001b[0mfit_transform\u001b[0m\u001b[0;34m(\u001b[0m\u001b[0;34m[\u001b[0m\u001b[0mnp\u001b[0m\u001b[0;34m.\u001b[0m\u001b[0marray\u001b[0m\u001b[0;34m(\u001b[0m\u001b[0mi\u001b[0m\u001b[0;34m)\u001b[0m \u001b[0;32mfor\u001b[0m \u001b[0mi\u001b[0m \u001b[0;32min\u001b[0m \u001b[0mx2\u001b[0m\u001b[0;34m]\u001b[0m\u001b[0;34m)\u001b[0m\u001b[0;34m)\u001b[0m\u001b[0;34m\u001b[0m\u001b[0;34m\u001b[0m\u001b[0m\n",
            "\u001b[0;31mNameError\u001b[0m: name 'x2' is not defined"
          ]
        }
      ]
    },
    {
      "cell_type": "code",
      "source": [
        "#new table for reference\n",
        "df7 = df4.copy()\n",
        "df7['asset_description'] = [i for i in transform_x]\n",
        "df7['event_payment_symbol'] = [i for i in transform_x2]\n",
        "df7['event_total_price'] = [i for i in transform_x3]\n",
        "x_agg = np.array(df7[['asset_description', 'event_payment_symbol', 'event_total_price']])"
      ],
      "metadata": {
        "id": "f41C8sYMY0KY"
      },
      "execution_count": null,
      "outputs": []
    },
    {
      "cell_type": "code",
      "source": [
        "# Normalize data, this also prevents bias on top of standardizing (multiple features will have same units of variance after normalizing)\n",
        "# Combine (reshape) entries of 3 different features into 1, we will have 52+52+52 features from all 3.\n",
        "x_agg_all = preprocessing.normalize(np.array([np.concatenate((i[0], i[1], i[2])) for i in x_agg]))"
      ],
      "metadata": {
        "id": "H4j4rvohY2yP"
      },
      "execution_count": null,
      "outputs": []
    },
    {
      "cell_type": "code",
      "source": [
        "# Train data and provide results, the accuracy is about 84 percent, not too different from only using description as feature\n",
        "X_train3, X_test3, y_train3, y_test3 = model_selection.train_test_split(x_agg_all, y, train_size=0.2, test_size=0.1, random_state=101)\n",
        "rbf = svm.SVC(kernel='rbf').fit(X_train3, y_train3)\n",
        "rbf_pred3 = rbf.predict(X_test3)\n",
        "rbf_accuracy3 = accuracy_score(y_test3, rbf_pred3)\n",
        "rbf_f13 = f1_score(y_test3, rbf_pred3, average='weighted')\n",
        "print('Accuracy (RBF Kernel): ', \"%.2f\" % (rbf_accuracy3*100))\n",
        "print('F1 (RBF Kernel): ', \"%.2f\" % (rbf_f13*100))"
      ],
      "metadata": {
        "id": "NVLkXx8VZJ_v"
      },
      "execution_count": null,
      "outputs": []
    },
    {
      "cell_type": "code",
      "source": [
        "# Try again the first model without using PCA, but directly joining different features together, then we will have, for every data node, 512 feature entries from description, 52 entries from event payment symbol, and 1 entry from payment amount"
      ],
      "metadata": {
        "id": "xzTd6sLMZdI4"
      },
      "execution_count": null,
      "outputs": []
    },
    {
      "cell_type": "code",
      "source": [
        "transform_x32 = np.nan_to_num(np.array([[i] for i in x3]))\n",
        "x_agg_all2 =  preprocessing.normalize(np.array(np.concatenate((StandardScaler().fit_transform(x), StandardScaler().fit_transform(list(x2)), StandardScaler().fit_transform(transform_x32)), axis = 1)))"
      ],
      "metadata": {
        "id": "IUJ_3cQQcLuo"
      },
      "execution_count": null,
      "outputs": []
    },
    {
      "cell_type": "code",
      "source": [
        "# this returns accuracy at about 84 percent. We can imply the usage of PCA from this result\n",
        "X_train3, X_test3, y_train3, y_test3 = model_selection.train_test_split(x_agg_all2, y, train_size=0.2, test_size=0.1, random_state=101)\n",
        "rbf = svm.SVC(kernel='rbf').fit(X_train3, y_train3)\n",
        "rbf_pred3 = rbf.predict(X_test3)\n",
        "rbf_accuracy3 = accuracy_score(y_test3, rbf_pred3)\n",
        "rbf_f13 = f1_score(y_test3, rbf_pred3, average='weighted')\n",
        "print('Accuracy (RBF Kernel): ', \"%.2f\" % (rbf_accuracy3*100))\n",
        "print('F1 (RBF Kernel): ', \"%.2f\" % (rbf_f13*100))"
      ],
      "metadata": {
        "id": "e6Hup8-lcPQv"
      },
      "execution_count": null,
      "outputs": []
    },
    {
      "cell_type": "code",
      "source": [
        "# below is a test for different values of PCAs and its potential influence on accuracies with asset_description alone. Originally it has 512 feature entries. Turns out dimensionality reduction does not impact hugely on accuracies.\n",
        "# So we can apply PCA without worries to affect accuracies in a bad way.\n",
        "for i in range(500, 100, -50):\n",
        "    pca= PCA(n_components=i)\n",
        "    transform_x = pca.fit_transform(x)\n",
        "    X_train3, X_test3, y_train3, y_test3 = model_selection.train_test_split(transform_x, y, train_size=0.2, test_size=0.1, random_state=101)\n",
        "    rbf = svm.SVC(kernel='rbf').fit(X_train3, y_train3)\n",
        "    rbf_pred3 = rbf.predict(X_test3)\n",
        "    rbf_accuracy3 = accuracy_score(y_test3, rbf_pred3)\n",
        "    rbf_f13 = f1_score(y_test3, rbf_pred3, average='weighted')\n",
        "    print('Accuracy (RBF Kernel): ', \"%.2f\" % (rbf_accuracy3*100))\n",
        "    print('F1 (RBF Kernel): ', \"%.2f\" % (rbf_f13*100))"
      ],
      "metadata": {
        "id": "quzeX7AHdI3O"
      },
      "execution_count": null,
      "outputs": []
    },
    {
      "cell_type": "code",
      "source": [
        "# model 2: add asset url together with asset description (dual feature approach) since those two seems like the most legit features\n",
        "# transform features using PCA refering to size of URL, it has 43 data entries in total.\n",
        "# Also standardize and normalize data\n",
        "pca= PCA(n_components=len(x5[0]))\n",
        "transform_x = StandardScaler().fit_transform(pca.fit_transform(x))\n",
        "transform_url = StandardScaler().fit_transform(x5)\n",
        "x_agg_all3 = preprocessing.normalize(np.array(np.concatenate((transform_x, transform_url), axis = 1)))"
      ],
      "metadata": {
        "id": "XS1BXovYc41n"
      },
      "execution_count": null,
      "outputs": []
    },
    {
      "cell_type": "code",
      "source": [
        "# returns 94 percent of accuracy, 6 percent higher than URL alone, 10 percent higher than description alone\n",
        "X_train4, X_test4, y_train4, y_test4 = model_selection.train_test_split(x_agg_all3, y, train_size=0.2, test_size=0.1, random_state=101)\n",
        "rbf = svm.SVC(kernel='rbf').fit(X_train4, y_train4)\n",
        "rbf_pred4 = rbf.predict(X_test4)\n",
        "rbf_accuracy4 = accuracy_score(y_test4, rbf_pred4)\n",
        "rbf_f14 = f1_score(y_test4, rbf_pred4, average='weighted')\n",
        "print('Accuracy (RBF Kernel): ', \"%.2f\" % (rbf_accuracy4*100))\n",
        "print('F1 (RBF Kernel): ', \"%.2f\" % (rbf_f14*100))"
      ],
      "metadata": {
        "id": "kx7phgzUd9PY"
      },
      "execution_count": null,
      "outputs": []
    },
    {
      "cell_type": "markdown",
      "source": [
        "## **Below is the final unsupervised framework including all features** "
      ],
      "metadata": {
        "id": "kBCHiKtrkejI"
      }
    },
    {
      "cell_type": "code",
      "source": [],
      "metadata": {
        "id": "5Y2td7RJGgYp"
      },
      "execution_count": null,
      "outputs": []
    },
    {
      "cell_type": "code",
      "source": [
        "# Unsupervised learning model seems straightforward, we transform, using PCA, all features into same size and reshape the feature vector for Kmeans to train.\n",
        "# Code are duplicates from before so I am not commenting too much\n",
        "# One thing to notice, the validation for this is not comparable. Since Unsupervised learning has no labels. Using only \"Event Payment Symbol\" as the only feature for example, will return really good results\n",
        "# in terms of error rate and silhouette scores. It does not mean it is the best feature or only feature we should select. We would like to group NFTs based on all features we find useful and try to change\n",
        "# argument, but not features, in order to improve validation scores.\n",
        "pca= PCA(n_components=len(x5[0]))\n",
        "transform_x_u = StandardScaler().fit_transform(pca.fit_transform(x))\n",
        "transform_x2_u = np.array(StandardScaler().fit_transform(pca.fit_transform([np.array(i) for i in x2])))\n",
        "transform_x3_u = np.nan_to_num(np.array(StandardScaler().fit_transform([[i] * len(x5[0]) for i in x3])))\n",
        "transform_url_u = StandardScaler().fit_transform(x5)\n",
        "# select features that we want. The below commented line is selecting only one feature, it has high validation scores but we should not be satisfied with that.\n",
        "x_agg_all4 = preprocessing.normalize(np.array(np.concatenate((transform_x_u,transform_x2_u,transform_x3_u, transform_url_u), axis = 1)))\n",
        "# x_agg_all4 = preprocessing.normalize(np.array(transform_url_u))\n",
        "X_train5, X_test5, y_train5, y_test5 = model_selection.train_test_split(x_agg_all4, y, train_size=0.2, test_size=0.1, random_state=101)\n",
        "sse = []\n",
        "sil_val = []\n",
        "for i in range(5, 20):\n",
        "    kmeans = KMeans(n_clusters=i, random_state=0)\n",
        "    kmeans.fit(X_train5)\n",
        "    #kmeans.labels_\n",
        "    sse.append(kmeans.inertia_)\n",
        "    labels = kmeans.predict(X_test5)\n",
        "    sil_val.append(silhouette_score(X_test5, labels))"
      ],
      "metadata": {
        "id": "U4skMowWkgMW"
      },
      "execution_count": null,
      "outputs": []
    },
    {
      "cell_type": "code",
      "source": [
        "print(sse)"
      ],
      "metadata": {
        "id": "Ikh4phIdlu2_",
        "colab": {
          "base_uri": "https://localhost:8080/"
        },
        "outputId": "967d3074-5bca-43d5-96ce-120ceb01b725"
      },
      "execution_count": null,
      "outputs": [
        {
          "output_type": "stream",
          "name": "stdout",
          "text": [
            "[10201.105599860197, 9607.42553953881, 9057.847229719126, 8707.720410494498, 8504.572790826998, 8315.841241942184, 8143.955175323605, 8044.736864557717, 7818.492807838569, 7688.176655289995, 7622.2203944541825, 7470.577533809231, 7215.734862927318, 7206.353665817343, 7092.070258412412]\n"
          ]
        }
      ]
    },
    {
      "cell_type": "code",
      "source": [
        "print(sil_val)"
      ],
      "metadata": {
        "id": "K9titlS0lvp0",
        "colab": {
          "base_uri": "https://localhost:8080/"
        },
        "outputId": "a92b8b62-cbae-4a53-f6c7-dbc0fc3d10ad"
      },
      "execution_count": null,
      "outputs": [
        {
          "output_type": "stream",
          "name": "stdout",
          "text": [
            "[0.42089755004671603, 0.43660123823587194, 0.4510099033976539, 0.4559535299716507, 0.33142630853634863, 0.4662193592002973, 0.4232048628426968, 0.46652243994581427, 0.3998749160536518, 0.38565899904574386, 0.38362434907110976, 0.4030545507235082, 0.4509741312132654, 0.44112424815871076, 0.44239566883630765]\n"
          ]
        }
      ]
    },
    {
      "cell_type": "markdown",
      "source": [
        "## **Below is the code for altering user clicking history** \n",
        "\n"
      ],
      "metadata": {
        "id": "QJfpadODGmw7"
      }
    },
    {
      "cell_type": "code",
      "source": [
        "import random\n",
        "#initialize data to be altered, original dataset can be found at: https://github.com/GRMDS/User_Recommender\n",
        "# we have to generate new clicking history and expand on the old one (800 lines) to match our user dataset. We find it valid because the original dataset was also \"masked\" claimed by RMDS.\n",
        "click = pd.read_csv(\"match_df.csv\")\n",
        "before_mask = click['all_visits']\n",
        "mask = df['asset_url']\n",
        "# Create a new list to store masked data\n",
        "after_mask = []\n",
        "for i in range(50000):\n",
        "    # randomly select an entry from original dataset to determine the length of clicking history generated\n",
        "    rand = random.choice(before_mask)\n",
        "    # empty clicking history for new users\n",
        "    if type(rand) == float:\n",
        "        after_mask.append([''])\n",
        "    else:\n",
        "        # generate new clicking entries based on length of old one\n",
        "        temp = []\n",
        "        for j in range(len(rand.split(','))):\n",
        "            temp.append(random.choice(mask))\n",
        "        after_mask.append(temp)\n",
        "# generate ids based on users from user dataset\n",
        "ids = list(click['uid'])\n",
        "ref = [i for i in range(0, 50000)]\n",
        "for j in ids:\n",
        "        ref.remove(j)\n",
        "for i in range(50000-len(ids)):\n",
        "    temp = random.choice(ref)\n",
        "    ids.append(temp)\n",
        "    ref.remove(temp)\n",
        "# create user clicking history dataframe\n",
        "masked_click = pd.DataFrame(list(zip(ids, after_mask)))\n",
        "masked_click"
      ],
      "metadata": {
        "id": "_qvgO_3AGhlu"
      },
      "execution_count": null,
      "outputs": []
    },
    {
      "cell_type": "code",
      "source": [
        "# preprocessing for the new user dataset\n",
        "dfu = pd. read_csv(\"newdata.csv\")\n",
        "dfu = dfu.drop(dfu.index[50000:])\n",
        "dfu = dfu.drop(columns=['Unnamed: 0', 'ResponseId', 'Trans', 'Sexuality', 'SurveyLength', 'SurveyEase', 'ConvertedCompYearly', 'NEWStuck', 'SOVisitFreq', 'SOPartFreq', 'SOComm', 'NEWOtherComms', 'SurveyEase','Age1stCode','LearnCode','YearsCode','YearsCodePro','LanguageHaveWorkedWith', 'LanguageWantToWorkWith', 'DatabaseHaveWorkedWith', 'DatabaseWantToWorkWith', 'PlatformHaveWorkedWith', 'PlatformWantToWorkWith', 'WebframeHaveWorkedWith', 'WebframeWantToWorkWith', 'MiscTechHaveWorkedWith', 'MiscTechWantToWorkWith', 'ToolsTechHaveWorkedWith', 'ToolsTechWantToWorkWith', 'NEWCollabToolsHaveWorkedWith', 'NEWCollabToolsWantToWorkWith', 'OpSys', 'NEWSOSites', 'SOAccount'])\n",
        "dfu['CompTotal'] = dfu['CompTotal'].astype(str)\n",
        "features = ['MainBranch','Employment','Country','EdLevel','DevType', 'OrgSize', 'Currency', 'CompTotal', 'CompFreq','Age', 'Gender', 'Ethnicity', 'Accessibility', 'MentalHealth']\n",
        "for feature in features:\n",
        "    dfu[feature] = dfu[feature].fillna('')\n",
        "def combined_features(row):\n",
        "    return row['MainBranch']+\" \"+row['Employment']+\" \"+row['Country']+\" \"+row['EdLevel']+\" \"+row['DevType']+\" \"+row['OrgSize']+\" \"+row['Currency']+\" \"+row['CompTotal']+\" \"+row['CompFreq']+\" \"+row['Age']+\" \"+row['Gender']+\" \"+row['Ethnicity']+\" \"+row['Accessibility']+\" \"+row['MentalHealth']\n",
        "dfu[\"combined_features\"] = dfu.apply(combined_features, axis =1)"
      ],
      "metadata": {
        "id": "RDhtONcQxNlN"
      },
      "execution_count": null,
      "outputs": []
    },
    {
      "cell_type": "code",
      "source": [
        "from sklearn.feature_extraction.text import TfidfVectorizer\n",
        "from sklearn.feature_extraction.text import CountVectorizer\n",
        "from sklearn.metrics.pairwise import cosine_similarity\n",
        "from sklearn.metrics.pairwise import euclidean_distances"
      ],
      "metadata": {
        "id": "BOC2FI8XxW4J"
      },
      "execution_count": null,
      "outputs": []
    },
    {
      "cell_type": "code",
      "source": [
        "#generate TFIDF Vectorization\n",
        "tfid = TfidfVectorizer()\n",
        "tfid_matrix = tfid.fit_transform(dfu[\"combined_features\"])\n",
        "print(\"Tf IDF Matrix:\", tfid_matrix.toarray())\n",
        "tfid_matrix.shape"
      ],
      "metadata": {
        "id": "oxOrC2xkxZrL"
      },
      "execution_count": null,
      "outputs": []
    },
    {
      "cell_type": "code",
      "source": [
        "from sklearn.decomposition import TruncatedSVD"
      ],
      "metadata": {
        "id": "Tt-mDsH2xgLd"
      },
      "execution_count": null,
      "outputs": []
    },
    {
      "cell_type": "code",
      "source": [
        "# dimensionality reduction by SVD, this is to ease the pressure of RAM when running cosine similarity\n",
        "svd = TruncatedSVD(n_components=3000)\n",
        "reduced_data = svd.fit_transform(tfid_matrix)\n",
        "reduced_data.shape\n",
        "cosine_sim = cosine_similarity(reduced_data)\n",
        "cosine_sim"
      ],
      "metadata": {
        "id": "2nuo3wCJxiNL"
      },
      "execution_count": null,
      "outputs": []
    },
    {
      "cell_type": "code",
      "source": [
        "# a function to recommend users based on similarity scores, we recommend 10 in this case. Input: user id. Output: list of user ids\n",
        "def recommendation(user):\n",
        "    user_id = dfu[dfu.index == user].index[0]\n",
        "    distances = cosine_sim[user_id]\n",
        "    user_list = sorted(list(enumerate(distances)), reverse=True, key=lambda x:x[1])[1:10]\n",
        "    \n",
        "    #for i in user_list:\n",
        "        #print(i)\n",
        "    return [i[0] for i in user_list]\n",
        "recommendation(2)"
      ],
      "metadata": {
        "id": "k8yBkDarxs2d"
      },
      "execution_count": null,
      "outputs": []
    },
    {
      "cell_type": "code",
      "source": [
        "# an example to recommend user 2052 and 24 their preferred NFTs! User 2052 is a new user, so their preference will be based on their similar users\n",
        "  for temp in [2052, 24]:\n",
        "  temp = 2052\n",
        "  # in case user is experienced, we find features of NFTs based on clicking history, and store features for predicting tags\n",
        "  if temp in masked_click[0] and len(list(masked_click[masked_click[0] == temp][1])[0][0]) != 0:\n",
        "      clicks = [df[df['asset_url'] == i].index[0] for i in list(masked_click[masked_click[0] == temp][1])[0]]\n",
        "      clicks = [x_agg_all3[i] for i in clicks]\n",
        "      # recommendation generation using URL included supervised model\n",
        "      rbf_pred_res = [rbf.predict(clicks)]\n",
        "  # in case user is not experienced\n",
        "  else:\n",
        "      # find users that are similar to current user with non-empty clicking histories (find experienced users only)\n",
        "      candidates = [i for i in recommendation(temp) if i in masked_click[0] and len(list(masked_click[masked_click[0] == i][1])[0][0]) != 0]\n",
        "      clicks = []\n",
        "      for temp2 in candidates:\n",
        "          # iterate through to find feature sets of all candidates\n",
        "          clicks2 = [df[df['asset_url'] == i].index[0] for i in list(masked_click[masked_click[0] == temp2][1])[0]]\n",
        "          clicks.append([x_agg_all3[i] for i in clicks2])\n",
        "      rbf_pred_res = [rbf.predict(i) for i in clicks]\n",
        "  # count frequencies of occurences to recommend corresponding collections\n",
        "  rec = {}\n",
        "  for i in rbf_pred_res:\n",
        "      for j in i:\n",
        "          if j in rec:\n",
        "              rec[j] += 1\n",
        "          else:\n",
        "              rec[j] = 1\n",
        "  rec = sorted(rec.items(), key=lambda item: item[1])\n",
        "  print(rbf_pred_res)\n",
        "  print(\"recommending user\", temp, rec[-3:])\n",
        "  #incorporate price filtering to both FOR YOU section and TRENDING SECTION\n",
        "  low = float(input(\"Enter a lower bound for price: \"))\n",
        "  high = float(input(\"Enter a higher bound for price: \"))\n",
        "  print(\"showing recommendation for user 24 with price range from\", low, \"to\", high)\n",
        "  trending = df['collection_slug'].value_counts()[:3]"
      ],
      "metadata": {
        "id": "Yf9-u6z_x_b2"
      },
      "execution_count": null,
      "outputs": []
    },
    {
      "cell_type": "code",
      "source": [
        "# show collection \"axie\" after price filtering\n",
        "df[(df['collection_slug'] == 'axie') & (df['event_total_price'] >= low) & (df['event_total_price'] <= high)].head()"
      ],
      "metadata": {
        "id": "ki9xmvn3mlfM"
      },
      "execution_count": null,
      "outputs": []
    }
  ]
}